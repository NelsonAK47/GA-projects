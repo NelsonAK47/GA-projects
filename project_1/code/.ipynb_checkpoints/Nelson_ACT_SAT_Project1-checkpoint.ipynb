{
 "cells": [
  {
   "cell_type": "markdown",
   "metadata": {},
   "source": [
    "<img src=\"http://imgur.com/1ZcRyrc.png\" style=\"float: left; margin: 20px; height: 55px\">\n",
    "\n",
    "# Project 1: Standardized Test Analysis"
   ]
  },
  {
   "cell_type": "markdown",
   "metadata": {},
   "source": [
    "<h4> <center>An Analysis of SAT and ACT Scores For College Admission </center></h4>\n",
    "<h5> <center>Nelson Agus Kesuma </center></h5>"
   ]
  },
  {
   "cell_type": "markdown",
   "metadata": {},
   "source": [
    "--- \n",
    "# <font color = 'Maroon'>Part 1\n",
    "\n",
    "Part 1 requires knowledge of basic Python.\n",
    "\n",
    "---"
   ]
  },
  {
   "cell_type": "markdown",
   "metadata": {},
   "source": [
    "## <font color = 'Maroon'>Problem Statement"
   ]
  },
  {
   "cell_type": "markdown",
   "metadata": {},
   "source": [
    "Due to the COVID-19 pandemic, many colleges have introduced test-optional policy for their admission requirement. It is seen as an avenue to promote diversity and equity on campuses by eliminating standardized testing for their admissions process. [[source]](https://www.urban.org/research/publication/how-test-optional-college-admissions-expanded-during-covid-19-pandemic)\n",
    "\n",
    "As an education advisor for my beloved students, this project aims to provide better visibility and directions for college application processes by analysing the following aspects:\n",
    "- The current practices of test-optional policies among colleges and universities in the U.S.\n",
    "- An in-depth analysis of SAT and ACT scores with respect to college acceptance rates\n",
    "- An in-depth analysis of SAT and ACT scores correlated to intended college majors\n",
    "- SAT scores correlation to students' GPA to determine if SAT score matters"
   ]
  },
  {
   "cell_type": "markdown",
   "metadata": {},
   "source": [
    "### <font color = 'Maroon'>Contents:\n",
    "- [Background](#Background)\n",
    "- [Data Import & Cleaning](#Data-Import-and-Cleaning)\n",
    "- [Exploratory Data Analysis](#Exploratory-Data-Analysis)\n",
    "- [Data Visualization](#Visualize-the-Data)\n",
    "- [Conclusions and Recommendations](#Conclusions-and-Recommendations)"
   ]
  },
  {
   "cell_type": "markdown",
   "metadata": {},
   "source": [
    "## <font color = 'Maroon'>Background"
   ]
  },
  {
   "cell_type": "markdown",
   "metadata": {},
   "source": [
    "The SAT and ACT are standardized tests that many colleges and universities in the United States require for their admissions process. This score is used along with other materials such as grade point average (GPA) and essay responses to determine whether or not a potential student will be accepted to the university.\n",
    "\n",
    "The SAT has two sections of the test: Evidence-Based Reading and Writing and Math ([*source*](https://www.princetonreview.com/college/sat-sections)). The ACT has 4 sections: English, Mathematics, Reading, and Science, with an additional optional writing section ([*source*](https://www.act.org/content/act/en/products-and-services/the-act/scores/understanding-your-scores.html)). They have different score ranges, which you can read more about on their websites or additional outside sources (a quick Google search will help you understand the scores for each test):\n",
    "* [SAT](https://collegereadiness.collegeboard.org/sat)\n",
    "* [ACT](https://www.act.org/content/act/en.html)\n",
    "\n",
    "Standardized tests have long been a controversial topic for students, administrators, and legislators. Since the 1940's, an increasing number of colleges have been using scores from sudents' performances on tests like the SAT and the ACT as a measure for college readiness and aptitude ([*source*](https://www.minotdailynews.com/news/local-news/2017/04/a-brief-history-of-the-sat-and-act/)). Supporters of these tests argue that these scores can be used as an objective measure to determine college admittance. Opponents of these tests claim that these tests are not accurate measures of students potential or ability and serve as an inequitable barrier to entry. Lately, more and more schools are opting to drop the SAT/ACT requirement for their Fall 2021 applications ([*read more about this here*](https://www.cnn.com/2020/04/14/us/coronavirus-colleges-sat-act-test-trnd/index.html))."
   ]
  },
  {
   "cell_type": "markdown",
   "metadata": {},
   "source": [
    "As such, this project aims to better guide prospective freshmen in positioning themselves with regards to their college admissions. "
   ]
  },
  {
   "cell_type": "markdown",
   "metadata": {},
   "source": [
    "### <font color = 'Maroon'>Datasets\n",
    "\n",
    "* [`sat_2019_by_intended_college_major.csv`](./data/sat_2019_by_intended_college_major.csv): 2019 SAT Scores by Intended College Major\n",
    "  \n",
    "  This dataset outlines the 2019 SAT scores by intended college major. It consists of multiple attributes including the intended college major, mean SAT scores for both ReadingWriting and Math subjects and other demographics such as number of test takers and percentage of students applying for each college major. Also, a number of intended college majors were surveyed and collected.\n",
    "* [`sat_act_by_college.csv`](./data/sat_act_by_college.csv): Ranges of Accepted ACT & SAT Student Scores by Colleges\n",
    "    \n",
    "    The dataset generates a number of colleges/universities in the U.S. ordered by their acceptance rate and their test-optional policy along with the number of applicants, acceptance rate as well as the SAT and ACT 25th-75th percentile total scores.\n",
    "    \n",
    "* [`gpa_by_UC_college.csv`](./data/gpa_by_UC_college.csv): Ranges of Accepted Student GPA by all University of California campuses [[source]](https://admission.universityofcalifornia.edu/campuses-majors/freshman-admit-data.html)\n",
    "    \n",
    "    This dataset describes the admitted student GPA for each UC campus for fall 2021 and was collected by UC freshman admission staffs."
   ]
  },
  {
   "cell_type": "markdown",
   "metadata": {},
   "source": [
    "### <font color = 'Maroon'>Outside Research"
   ]
  },
  {
   "cell_type": "markdown",
   "metadata": {},
   "source": [
    "According to Lovell and Mallinson (2022), the COVID-19 pandemic has induced numerous colleges and universities to implement test-optional admission policies. It was implemented out of safety measures during the pandemic. However, pre-pandemic era has seen various colleges and universities practiced this policy as a way to promote diversity and equity on campus. [[source]](https://www.urban.org/research/publication/how-test-optional-college-admissions-expanded-during-covid-19-pandemic) This includes the optional submission for SAT and ACT scores for students university admission. (Bhardwa, 2022) [[source]](https://www.timeshighereducation.com/student/advice/what-does-test-optional-mean-us-university-applications). In addition, the number of universities and colleges with test-optional policies has nearly doubled from 713 to 1,350 since spring 2020. Therefore, many universities are inching towards the test-optional admission requirement as part of the new normal. Also, it could also lead to a more diverse pool of applicants. (Lovell and Mallinson, 2022)\n",
    "\n",
    "\n",
    "Research has also shown that GPA or grades are the best predictor of college performance and are not as heavily influenced as standardized exams by socioeconomic backgrounds such as income, parent education levels and race. (Kurlaender and Cohen, 2019) [[source]](https://edpolicyinca.org/publications/predicting-college-success-how-do-different-high-school-assessments-measure-2019). To validate the statement, a number of university-admitted student GPAs have been collected and inputted manually to the csv file as attached above. Due to data availability constraint, only student GPAs admitted to University of California campuses were collected to be investigated. [[source]](https://admission.universityofcalifornia.edu/campuses-majors/freshman-admit-data.html). This dataset will be used to understand the correlation between GPA and SAT scores particularly for UC universities."
   ]
  },
  {
   "cell_type": "markdown",
   "metadata": {},
   "source": [
    "### <font color = 'Maroon'>Coding Challenges\n",
    "\n",
    "1. Manually calculate mean:\n",
    "\n",
    "    Write a function that takes in values and returns the mean of the values. Create a list of numbers that you test on your function to check to make sure your function works!\n",
    "    \n",
    "    *Note*: Do not use any mean methods built-in to any Python libraries to do this! This should be done without importing any additional libraries."
   ]
  },
  {
   "cell_type": "code",
   "execution_count": 11,
   "metadata": {},
   "outputs": [
    {
     "data": {
      "text/plain": [
       "24.3"
      ]
     },
     "execution_count": 11,
     "metadata": {},
     "output_type": "execute_result"
    }
   ],
   "source": [
    "def mean_calculation(list_of_numbers):\n",
    "    if len(list_of_numbers) ==0:\n",
    "        return 0\n",
    "    else:\n",
    "        return sum(list_of_numbers) / len(list_of_numbers)\n",
    "\n",
    "mean_calculation([20, 54, 12, 20, 10, 27, 16, 14, 30, 40])"
   ]
  },
  {
   "cell_type": "markdown",
   "metadata": {},
   "source": [
    "2. Manually calculate standard deviation:\n",
    "\n",
    "    The formula for standard deviation is below:\n",
    "\n",
    "    $$\\sigma = \\sqrt{\\frac{1}{n}\\sum_{i=1}^n(x_i - \\mu)^2}$$\n",
    "\n",
    "    Where $x_i$ represents each value in the dataset, $\\mu$ represents the mean of all values in the dataset and $n$ represents the number of values in the dataset.\n",
    "\n",
    "    Write a function that takes in values and returns the standard deviation of the values using the formula above. Hint: use the function you wrote above to calculate the mean! Use the list of numbers you created above to test on your function.\n",
    "    \n",
    "    *Note*: Do not use any standard deviation methods built-in to any Python libraries to do this! This should be done without importing any additional libraries."
   ]
  },
  {
   "cell_type": "code",
   "execution_count": 26,
   "metadata": {},
   "outputs": [
    {
     "data": {
      "text/plain": [
       "13.176114753598648"
      ]
     },
     "execution_count": 26,
     "metadata": {},
     "output_type": "execute_result"
    }
   ],
   "source": [
    "def std_deviation_calculation(list_of_numbers):\n",
    "    if len(list_of_numbers) ==0:\n",
    "        return 0\n",
    "    else:\n",
    "        variance = sum([((x- mean_calculation(list_of_numbers))**2) for x in list_of_numbers]) / len(list_of_numbers)\n",
    "        return variance ** 0.5\n",
    "\n",
    "std_deviation_calculation([20, 54, 12, 20, 10, 27, 16, 14, 30, 40])"
   ]
  },
  {
   "cell_type": "markdown",
   "metadata": {},
   "source": [
    "3. Data cleaning function:\n",
    "    \n",
    "    Write a function that takes in a string that is a number and a percent symbol (ex. '50%', '30.5%', etc.) and converts this to a float that is the decimal approximation of the percent. For example, inputting '50%' in your function should return 0.5, '30.5%' should return 0.305, etc. Make sure to test your function to make sure it works!\n",
    "\n",
    "You will use these functions later on in the project!"
   ]
  },
  {
   "cell_type": "code",
   "execution_count": 46,
   "metadata": {},
   "outputs": [
    {
     "data": {
      "text/plain": [
       "0.305"
      ]
     },
     "execution_count": 46,
     "metadata": {},
     "output_type": "execute_result"
    }
   ],
   "source": [
    "def data_cleaning(number_string):\n",
    "    if not number_string.endswith(\"%\"):\n",
    "        return \"Please input %\"\n",
    "    else:\n",
    "        number_string = number_string.replace(\"%\",\"\")\n",
    "        return float (number_string)/100\n",
    "\n",
    "data_cleaning(\"30.5%\")"
   ]
  },
  {
   "cell_type": "markdown",
   "metadata": {},
   "source": [
    "--- \n",
    "# <font color = 'Maroon'>Part 2\n",
    "\n",
    "Part 2 requires knowledge of Pandas, EDA, data cleaning, and data visualization.\n",
    "\n",
    "---"
   ]
  },
  {
   "cell_type": "markdown",
   "metadata": {},
   "source": [
    "*All libraries used should be added here*"
   ]
  },
  {
   "cell_type": "code",
   "execution_count": 1088,
   "metadata": {},
   "outputs": [],
   "source": [
    "import pandas as pd\n",
    "import numpy as np\n",
    "import matplotlib.pyplot as plt\n",
    "%matplotlib inline\n",
    "import seaborn as sns"
   ]
  },
  {
   "cell_type": "markdown",
   "metadata": {},
   "source": [
    "## <font color = 'Maroon'>Data Import and Cleaning"
   ]
  },
  {
   "cell_type": "markdown",
   "metadata": {},
   "source": [
    "### <font color = 'Maroon'>Data Import & Cleaning\n",
    "\n",
    "Import the datasets that you selected for this project and go through the following steps at a minimum. You are welcome to do further cleaning as you feel necessary:\n",
    "1. Display the data: print the first 5 rows of each dataframe to your Jupyter notebook.\n",
    "2. Check for missing values.\n",
    "3. Check for any obvious issues with the observations (keep in mind the minimum & maximum possible values for each test/subtest).\n",
    "4. Fix any errors you identified in steps 2-3.\n",
    "5. Display the data types of each feature.\n",
    "6. Fix any incorrect data types found in step 5.\n",
    "    - Fix any individual values preventing other columns from being the appropriate type.\n",
    "    - If your dataset has a column of percents (ex. '50%', '30.5%', etc.), use the function you wrote in Part 1 (coding challenges, number 3) to convert this to floats! *Hint*: use `.map()` or `.apply()`.\n",
    "7. Rename Columns.\n",
    "    - Column names should be all lowercase.\n",
    "    - Column names should not contain spaces (underscores will suffice--this allows for using the `df.column_name` method to access columns in addition to `df['column_name']`).\n",
    "    - Column names should be unique and informative.\n",
    "8. Drop unnecessary rows (if needed).\n",
    "9. Merge dataframes that can be merged.\n",
    "10. Perform any additional cleaning that you feel is necessary.\n",
    "11. Save your cleaned and merged dataframes as csv files."
   ]
  },
  {
   "cell_type": "markdown",
   "metadata": {},
   "source": [
    "### <font color = 'Maroon'>Import and Display first 5 rows of each dataframe"
   ]
  },
  {
   "cell_type": "code",
   "execution_count": 1089,
   "metadata": {},
   "outputs": [
    {
     "data": {
      "text/html": [
       "<div>\n",
       "<style scoped>\n",
       "    .dataframe tbody tr th:only-of-type {\n",
       "        vertical-align: middle;\n",
       "    }\n",
       "\n",
       "    .dataframe tbody tr th {\n",
       "        vertical-align: top;\n",
       "    }\n",
       "\n",
       "    .dataframe thead th {\n",
       "        text-align: right;\n",
       "    }\n",
       "</style>\n",
       "<table border=\"1\" class=\"dataframe\">\n",
       "  <thead>\n",
       "    <tr style=\"text-align: right;\">\n",
       "      <th></th>\n",
       "      <th>IntendedCollegeMajor</th>\n",
       "      <th>TestTakers</th>\n",
       "      <th>Percent</th>\n",
       "      <th>Total</th>\n",
       "      <th>ReadingWriting</th>\n",
       "      <th>Math</th>\n",
       "    </tr>\n",
       "  </thead>\n",
       "  <tbody>\n",
       "    <tr>\n",
       "      <th>0</th>\n",
       "      <td>Agriculture, AgricultureOperations, and Relate...</td>\n",
       "      <td>24,913</td>\n",
       "      <td>1%</td>\n",
       "      <td>977</td>\n",
       "      <td>496</td>\n",
       "      <td>481</td>\n",
       "    </tr>\n",
       "    <tr>\n",
       "      <th>1</th>\n",
       "      <td>Architecture and Related Services</td>\n",
       "      <td>28,988</td>\n",
       "      <td>2%</td>\n",
       "      <td>1047</td>\n",
       "      <td>520</td>\n",
       "      <td>527</td>\n",
       "    </tr>\n",
       "    <tr>\n",
       "      <th>2</th>\n",
       "      <td>Area, Ethnic, Cultural, and Gender Studies</td>\n",
       "      <td>2,629</td>\n",
       "      <td>0%</td>\n",
       "      <td>1040</td>\n",
       "      <td>536</td>\n",
       "      <td>504</td>\n",
       "    </tr>\n",
       "    <tr>\n",
       "      <th>3</th>\n",
       "      <td>Biological and Biomedical Sciences</td>\n",
       "      <td>155,834</td>\n",
       "      <td>8%</td>\n",
       "      <td>1139</td>\n",
       "      <td>572</td>\n",
       "      <td>566</td>\n",
       "    </tr>\n",
       "    <tr>\n",
       "      <th>4</th>\n",
       "      <td>Business, Management, Marketing, and Related S...</td>\n",
       "      <td>221,523</td>\n",
       "      <td>12%</td>\n",
       "      <td>1072</td>\n",
       "      <td>534</td>\n",
       "      <td>537</td>\n",
       "    </tr>\n",
       "  </tbody>\n",
       "</table>\n",
       "</div>"
      ],
      "text/plain": [
       "                                IntendedCollegeMajor TestTakers Percent  \\\n",
       "0  Agriculture, AgricultureOperations, and Relate...     24,913      1%   \n",
       "1                  Architecture and Related Services     28,988      2%   \n",
       "2         Area, Ethnic, Cultural, and Gender Studies      2,629      0%   \n",
       "3                 Biological and Biomedical Sciences    155,834      8%   \n",
       "4  Business, Management, Marketing, and Related S...    221,523     12%   \n",
       "\n",
       "   Total  ReadingWriting  Math  \n",
       "0    977             496   481  \n",
       "1   1047             520   527  \n",
       "2   1040             536   504  \n",
       "3   1139             572   566  \n",
       "4   1072             534   537  "
      ]
     },
     "execution_count": 1089,
     "metadata": {},
     "output_type": "execute_result"
    }
   ],
   "source": [
    "sat_college_major_df = pd.read_csv('../data/sat_2019_by_intended_college_major.csv')\n",
    "sat_college_df = pd.read_csv('../data/sat_act_by_college.csv')\n",
    "gpa_uc_college_df = pd.read_csv('../data/gpa_by_UC_college.csv')\n",
    "\n",
    "sat_college_major_df.head()"
   ]
  },
  {
   "cell_type": "code",
   "execution_count": 1090,
   "metadata": {},
   "outputs": [
    {
     "data": {
      "text/html": [
       "<div>\n",
       "<style scoped>\n",
       "    .dataframe tbody tr th:only-of-type {\n",
       "        vertical-align: middle;\n",
       "    }\n",
       "\n",
       "    .dataframe tbody tr th {\n",
       "        vertical-align: top;\n",
       "    }\n",
       "\n",
       "    .dataframe thead th {\n",
       "        text-align: right;\n",
       "    }\n",
       "</style>\n",
       "<table border=\"1\" class=\"dataframe\">\n",
       "  <thead>\n",
       "    <tr style=\"text-align: right;\">\n",
       "      <th></th>\n",
       "      <th>School</th>\n",
       "      <th>Test Optional?</th>\n",
       "      <th>Applies to Class Year(s)</th>\n",
       "      <th>Policy Details</th>\n",
       "      <th>Number of Applicants</th>\n",
       "      <th>Accept Rate</th>\n",
       "      <th>SAT Total 25th-75th Percentile</th>\n",
       "      <th>ACT Total 25th-75th Percentile</th>\n",
       "    </tr>\n",
       "  </thead>\n",
       "  <tbody>\n",
       "    <tr>\n",
       "      <th>0</th>\n",
       "      <td>Stanford University</td>\n",
       "      <td>Yes</td>\n",
       "      <td>2021</td>\n",
       "      <td>Stanford has adopted a one-year test optional ...</td>\n",
       "      <td>47452</td>\n",
       "      <td>4.3%</td>\n",
       "      <td>1440-1570</td>\n",
       "      <td>32-35</td>\n",
       "    </tr>\n",
       "    <tr>\n",
       "      <th>1</th>\n",
       "      <td>Harvard College</td>\n",
       "      <td>Yes</td>\n",
       "      <td>2021</td>\n",
       "      <td>Harvard has adopted a one-year test optional p...</td>\n",
       "      <td>42749</td>\n",
       "      <td>4.7%</td>\n",
       "      <td>1460-1580</td>\n",
       "      <td>33-35</td>\n",
       "    </tr>\n",
       "    <tr>\n",
       "      <th>2</th>\n",
       "      <td>Princeton University</td>\n",
       "      <td>Yes</td>\n",
       "      <td>2021</td>\n",
       "      <td>Princeton has adopted a one-year test optional...</td>\n",
       "      <td>35370</td>\n",
       "      <td>5.5%</td>\n",
       "      <td>1440-1570</td>\n",
       "      <td>32-35</td>\n",
       "    </tr>\n",
       "    <tr>\n",
       "      <th>3</th>\n",
       "      <td>Columbia University</td>\n",
       "      <td>Yes</td>\n",
       "      <td>2021</td>\n",
       "      <td>Columbia has adopted a one-year test optional ...</td>\n",
       "      <td>40203</td>\n",
       "      <td>5.5%</td>\n",
       "      <td>1450-1560</td>\n",
       "      <td>33-35</td>\n",
       "    </tr>\n",
       "    <tr>\n",
       "      <th>4</th>\n",
       "      <td>Yale University</td>\n",
       "      <td>Yes</td>\n",
       "      <td>2021</td>\n",
       "      <td>Yale has adopted a one-year test optional poli...</td>\n",
       "      <td>36844</td>\n",
       "      <td>6.1%</td>\n",
       "      <td>1460-1570</td>\n",
       "      <td>33-35</td>\n",
       "    </tr>\n",
       "  </tbody>\n",
       "</table>\n",
       "</div>"
      ],
      "text/plain": [
       "                 School Test Optional? Applies to Class Year(s)  \\\n",
       "0   Stanford University            Yes                     2021   \n",
       "1       Harvard College            Yes                     2021   \n",
       "2  Princeton University            Yes                     2021   \n",
       "3   Columbia University            Yes                     2021   \n",
       "4       Yale University            Yes                     2021   \n",
       "\n",
       "                                      Policy Details  Number of Applicants  \\\n",
       "0  Stanford has adopted a one-year test optional ...                 47452   \n",
       "1  Harvard has adopted a one-year test optional p...                 42749   \n",
       "2  Princeton has adopted a one-year test optional...                 35370   \n",
       "3  Columbia has adopted a one-year test optional ...                 40203   \n",
       "4  Yale has adopted a one-year test optional poli...                 36844   \n",
       "\n",
       "  Accept Rate SAT Total 25th-75th Percentile ACT Total 25th-75th Percentile  \n",
       "0        4.3%                      1440-1570                          32-35  \n",
       "1        4.7%                      1460-1580                          33-35  \n",
       "2        5.5%                      1440-1570                          32-35  \n",
       "3        5.5%                      1450-1560                          33-35  \n",
       "4        6.1%                      1460-1570                          33-35  "
      ]
     },
     "execution_count": 1090,
     "metadata": {},
     "output_type": "execute_result"
    }
   ],
   "source": [
    "sat_college_df.head()"
   ]
  },
  {
   "cell_type": "code",
   "execution_count": 1091,
   "metadata": {},
   "outputs": [
    {
     "data": {
      "text/html": [
       "<div>\n",
       "<style scoped>\n",
       "    .dataframe tbody tr th:only-of-type {\n",
       "        vertical-align: middle;\n",
       "    }\n",
       "\n",
       "    .dataframe tbody tr th {\n",
       "        vertical-align: top;\n",
       "    }\n",
       "\n",
       "    .dataframe thead th {\n",
       "        text-align: right;\n",
       "    }\n",
       "</style>\n",
       "<table border=\"1\" class=\"dataframe\">\n",
       "  <thead>\n",
       "    <tr style=\"text-align: right;\">\n",
       "      <th></th>\n",
       "      <th>School</th>\n",
       "      <th>High School GPA of middle 25%-75% students</th>\n",
       "    </tr>\n",
       "  </thead>\n",
       "  <tbody>\n",
       "    <tr>\n",
       "      <th>0</th>\n",
       "      <td>University of California Berkeley</td>\n",
       "      <td>4.12-4.30</td>\n",
       "    </tr>\n",
       "    <tr>\n",
       "      <th>1</th>\n",
       "      <td>University of California Davis</td>\n",
       "      <td>3.95-4.25</td>\n",
       "    </tr>\n",
       "    <tr>\n",
       "      <th>2</th>\n",
       "      <td>University of California Irvine</td>\n",
       "      <td>3.96-4.26</td>\n",
       "    </tr>\n",
       "    <tr>\n",
       "      <th>3</th>\n",
       "      <td>University of California Los Angeles</td>\n",
       "      <td>4.19-4.32</td>\n",
       "    </tr>\n",
       "    <tr>\n",
       "      <th>4</th>\n",
       "      <td>University of California Merced</td>\n",
       "      <td>3.39-4.00</td>\n",
       "    </tr>\n",
       "  </tbody>\n",
       "</table>\n",
       "</div>"
      ],
      "text/plain": [
       "                                 School  \\\n",
       "0     University of California Berkeley   \n",
       "1        University of California Davis   \n",
       "2       University of California Irvine   \n",
       "3  University of California Los Angeles   \n",
       "4       University of California Merced   \n",
       "\n",
       "  High School GPA of middle 25%-75% students  \n",
       "0                                  4.12-4.30  \n",
       "1                                  3.95-4.25  \n",
       "2                                  3.96-4.26  \n",
       "3                                  4.19-4.32  \n",
       "4                                  3.39-4.00  "
      ]
     },
     "execution_count": 1091,
     "metadata": {},
     "output_type": "execute_result"
    }
   ],
   "source": [
    "gpa_uc_college_df.head()"
   ]
  },
  {
   "cell_type": "markdown",
   "metadata": {},
   "source": [
    "### <font color = 'Maroon'>Check for Missing Values"
   ]
  },
  {
   "cell_type": "code",
   "execution_count": 1092,
   "metadata": {},
   "outputs": [
    {
     "data": {
      "text/plain": [
       "IntendedCollegeMajor    0\n",
       "TestTakers              0\n",
       "Percent                 0\n",
       "Total                   0\n",
       "ReadingWriting          0\n",
       "Math                    0\n",
       "dtype: int64"
      ]
     },
     "execution_count": 1092,
     "metadata": {},
     "output_type": "execute_result"
    }
   ],
   "source": [
    "sat_college_major_df.isnull().sum()"
   ]
  },
  {
   "cell_type": "code",
   "execution_count": 1093,
   "metadata": {},
   "outputs": [
    {
     "data": {
      "text/plain": [
       "School                             0\n",
       "Test Optional?                     0\n",
       "Applies to Class Year(s)          26\n",
       "Policy Details                     0\n",
       "Number of Applicants               0\n",
       "Accept Rate                        0\n",
       "SAT Total 25th-75th Percentile     0\n",
       "ACT Total 25th-75th Percentile     0\n",
       "dtype: int64"
      ]
     },
     "execution_count": 1093,
     "metadata": {},
     "output_type": "execute_result"
    }
   ],
   "source": [
    "sat_college_df.isnull().sum()"
   ]
  },
  {
   "cell_type": "code",
   "execution_count": 1094,
   "metadata": {},
   "outputs": [
    {
     "data": {
      "text/plain": [
       "School                                        1\n",
       "High School GPA of middle 25%-75% students    1\n",
       "dtype: int64"
      ]
     },
     "execution_count": 1094,
     "metadata": {},
     "output_type": "execute_result"
    }
   ],
   "source": [
    "gpa_uc_college_df.isnull().sum()"
   ]
  },
  {
   "cell_type": "markdown",
   "metadata": {},
   "source": [
    "### <font color = 'Maroon'>Check for Potential Issues with Observations, Displaying Data Types of each Feature and Drop Unnecessary Rows"
   ]
  },
  {
   "cell_type": "markdown",
   "metadata": {},
   "source": [
    "Based on point 2, it is observed that there are several null values in some of the columns. Therefore, it is important to keep this in mind and decide on how to handle the missing values."
   ]
  },
  {
   "cell_type": "code",
   "execution_count": 1095,
   "metadata": {},
   "outputs": [
    {
     "data": {
      "text/plain": [
       "IntendedCollegeMajor    object\n",
       "TestTakers              object\n",
       "Percent                 object\n",
       "Total                    int64\n",
       "ReadingWriting           int64\n",
       "Math                     int64\n",
       "dtype: object"
      ]
     },
     "execution_count": 1095,
     "metadata": {},
     "output_type": "execute_result"
    }
   ],
   "source": [
    "sat_college_major_df.dtypes"
   ]
  },
  {
   "cell_type": "markdown",
   "metadata": {},
   "source": [
    "Fixing of testtakers and percent data types might be necessary for better EDA purposes."
   ]
  },
  {
   "cell_type": "code",
   "execution_count": 1096,
   "metadata": {},
   "outputs": [
    {
     "name": "stdout",
     "output_type": "stream",
     "text": [
      "597 646 1242\n",
      "458 456 916\n"
     ]
    }
   ],
   "source": [
    "#Check on the max and min values of the subtest\n",
    "print(np.max(sat_college_major_df['ReadingWriting']), np.max(sat_college_major_df['Math']), np.max(sat_college_major_df['Total']))\n",
    "print(np.min(sat_college_major_df['ReadingWriting']), np.min(sat_college_major_df['Math']), np.min(sat_college_major_df['Total']))"
   ]
  },
  {
   "cell_type": "code",
   "execution_count": 1097,
   "metadata": {},
   "outputs": [
    {
     "name": "stdout",
     "output_type": "stream",
     "text": [
      "​​ 1530-1560 35-36\n",
      "-- --\n"
     ]
    },
    {
     "data": {
      "text/plain": [
       "School                            object\n",
       "Test Optional?                    object\n",
       "Applies to Class Year(s)          object\n",
       "Policy Details                    object\n",
       "Number of Applicants               int64\n",
       "Accept Rate                       object\n",
       "SAT Total 25th-75th Percentile    object\n",
       "ACT Total 25th-75th Percentile    object\n",
       "dtype: object"
      ]
     },
     "execution_count": 1097,
     "metadata": {},
     "output_type": "execute_result"
    }
   ],
   "source": [
    "print(np.max(sat_college_df['SAT Total 25th-75th Percentile']), np.max(sat_college_df['ACT Total 25th-75th Percentile']))\n",
    "print(np.min(sat_college_df['SAT Total 25th-75th Percentile']), np.min(sat_college_df['ACT Total 25th-75th Percentile']))\n",
    "\n",
    "sat_college_df.dtypes"
   ]
  },
  {
   "cell_type": "markdown",
   "metadata": {},
   "source": [
    "While the validity of both SAT and ACT scores are correct, observed that 1560 is not the max value in the dataframe. Might need to separate out the range values in column 25th-75th percentile. The percentile columns data types are also objects instead of int or float. Therefore, converting to int or float might be necessary"
   ]
  },
  {
   "cell_type": "code",
   "execution_count": 1098,
   "metadata": {},
   "outputs": [
    {
     "data": {
      "text/plain": [
       "School                                        object\n",
       "High School GPA of middle 25%-75% students    object\n",
       "dtype: object"
      ]
     },
     "execution_count": 1098,
     "metadata": {},
     "output_type": "execute_result"
    }
   ],
   "source": [
    "gpa_uc_college_df.dtypes"
   ]
  },
  {
   "cell_type": "markdown",
   "metadata": {},
   "source": [
    "As 'High School GPA of middle 25%-75% students' column is an object, it is necessary to convert it to int or float first to buddy check the min or max value"
   ]
  },
  {
   "cell_type": "code",
   "execution_count": 1099,
   "metadata": {},
   "outputs": [
    {
     "data": {
      "text/plain": [
       "Yes         347\n",
       "No           26\n",
       "Yes (TB)     25\n",
       "Yes*         16\n",
       "Yes (TF)      2\n",
       "Name: Test Optional?, dtype: int64"
      ]
     },
     "execution_count": 1099,
     "metadata": {},
     "output_type": "execute_result"
    }
   ],
   "source": [
    "sat_college_df['Test Optional?'].value_counts()"
   ]
  },
  {
   "cell_type": "code",
   "execution_count": 1100,
   "metadata": {},
   "outputs": [
    {
     "data": {
      "text/plain": [
       "416"
      ]
     },
     "execution_count": 1100,
     "metadata": {},
     "output_type": "execute_result"
    }
   ],
   "source": [
    "len(sat_college_df['Test Optional?'])"
   ]
  },
  {
   "cell_type": "code",
   "execution_count": 1101,
   "metadata": {},
   "outputs": [
    {
     "data": {
      "text/plain": [
       "(416, 8)"
      ]
     },
     "execution_count": 1101,
     "metadata": {},
     "output_type": "execute_result"
    }
   ],
   "source": [
    "sat_college_df.shape"
   ]
  },
  {
   "cell_type": "markdown",
   "metadata": {},
   "source": [
    "For sat_college_df dataset, there are 416 rows. However, when checking on the 'Test optional?' column, the number of 'No' and null values coincide. This mean that 'No' in that column is regarded as null value"
   ]
  },
  {
   "cell_type": "code",
   "execution_count": 1102,
   "metadata": {},
   "outputs": [],
   "source": [
    "def policy_check(row):\n",
    "    if \"requires either the SAT or ACT\" in row and \"waive\" not in row:\n",
    "        return \"No\"\n",
    "    else:\n",
    "        return \"Yes\""
   ]
  },
  {
   "cell_type": "code",
   "execution_count": 1103,
   "metadata": {},
   "outputs": [],
   "source": [
    "sat_college_df['Policy Check'] = sat_college_df['Policy Details'].apply(policy_check)"
   ]
  },
  {
   "cell_type": "code",
   "execution_count": 1104,
   "metadata": {},
   "outputs": [
    {
     "data": {
      "text/plain": [
       "Yes    395\n",
       "No      21\n",
       "Name: Policy Check, dtype: int64"
      ]
     },
     "execution_count": 1104,
     "metadata": {},
     "output_type": "execute_result"
    }
   ],
   "source": [
    "sat_college_df['Policy Check'].value_counts()"
   ]
  },
  {
   "cell_type": "markdown",
   "metadata": {},
   "source": [
    "As shown above, this is just a preliminary assumption that all the statements that contain \"requires either the SAT or ACT\" and \"waive\" should be filled with \"No\" in \"Test Optional?\" column. However, the total counts of \"No\" are not aligned to the total counts of \"No\" in \"Test Optional?\" column. Hence, it can be concluded that either the if condition is wrong or there is some discrepancy in the \"Test Optional\" column. Upon checking the file, the if condition is wrong and there might be a need to write another if logic or there is no way to verify if the \"Test Optional\" column data was correctly inputted based on the sentiment in \"Policy Details\""
   ]
  },
  {
   "cell_type": "code",
   "execution_count": 1105,
   "metadata": {},
   "outputs": [
    {
     "data": {
      "text/plain": [
       "0"
      ]
     },
     "execution_count": 1105,
     "metadata": {},
     "output_type": "execute_result"
    }
   ],
   "source": [
    "#Ensure no duplicate entries\n",
    "sat_college_major_df.duplicated().sum()"
   ]
  },
  {
   "cell_type": "code",
   "execution_count": 1106,
   "metadata": {},
   "outputs": [
    {
     "data": {
      "text/plain": [
       "0"
      ]
     },
     "execution_count": 1106,
     "metadata": {},
     "output_type": "execute_result"
    }
   ],
   "source": [
    "#Ensure no duplicate entries\n",
    "sat_college_df.duplicated().sum()"
   ]
  },
  {
   "cell_type": "code",
   "execution_count": 1107,
   "metadata": {},
   "outputs": [
    {
     "data": {
      "text/plain": [
       "0"
      ]
     },
     "execution_count": 1107,
     "metadata": {},
     "output_type": "execute_result"
    }
   ],
   "source": [
    "#Ensure no duplicate entries\n",
    "gpa_uc_college_df.duplicated().sum()"
   ]
  },
  {
   "cell_type": "markdown",
   "metadata": {},
   "source": [
    "### <font color = 'Maroon'>Fix any errors found in 2-3 and Fix any incorrect Data Types"
   ]
  },
  {
   "cell_type": "code",
   "execution_count": 1108,
   "metadata": {},
   "outputs": [
    {
     "data": {
      "text/plain": [
       "0     24913\n",
       "1     28988\n",
       "2      2629\n",
       "3    155834\n",
       "4    221523\n",
       "Name: TestTakers, dtype: int64"
      ]
     },
     "execution_count": 1108,
     "metadata": {},
     "output_type": "execute_result"
    }
   ],
   "source": [
    "# Change testtakers data types to int\n",
    "def remove_commas_to_int(row):\n",
    "    row = int(row.replace(\",\",\"\"))\n",
    "    return row\n",
    "\n",
    "sat_college_major_df['TestTakers'] = sat_college_major_df['TestTakers'].apply(remove_commas_to_int)\n",
    "sat_college_major_df['TestTakers'].head()"
   ]
  },
  {
   "cell_type": "code",
   "execution_count": 1109,
   "metadata": {},
   "outputs": [
    {
     "data": {
      "text/html": [
       "<div>\n",
       "<style scoped>\n",
       "    .dataframe tbody tr th:only-of-type {\n",
       "        vertical-align: middle;\n",
       "    }\n",
       "\n",
       "    .dataframe tbody tr th {\n",
       "        vertical-align: top;\n",
       "    }\n",
       "\n",
       "    .dataframe thead th {\n",
       "        text-align: right;\n",
       "    }\n",
       "</style>\n",
       "<table border=\"1\" class=\"dataframe\">\n",
       "  <thead>\n",
       "    <tr style=\"text-align: right;\">\n",
       "      <th></th>\n",
       "      <th>IntendedCollegeMajor</th>\n",
       "      <th>TestTakers</th>\n",
       "      <th>Percent</th>\n",
       "      <th>Total</th>\n",
       "      <th>ReadingWriting</th>\n",
       "      <th>Math</th>\n",
       "    </tr>\n",
       "  </thead>\n",
       "  <tbody>\n",
       "    <tr>\n",
       "      <th>0</th>\n",
       "      <td>Agriculture, AgricultureOperations, and Relate...</td>\n",
       "      <td>24913</td>\n",
       "      <td>0.01</td>\n",
       "      <td>977</td>\n",
       "      <td>496</td>\n",
       "      <td>481</td>\n",
       "    </tr>\n",
       "    <tr>\n",
       "      <th>1</th>\n",
       "      <td>Architecture and Related Services</td>\n",
       "      <td>28988</td>\n",
       "      <td>0.02</td>\n",
       "      <td>1047</td>\n",
       "      <td>520</td>\n",
       "      <td>527</td>\n",
       "    </tr>\n",
       "    <tr>\n",
       "      <th>2</th>\n",
       "      <td>Area, Ethnic, Cultural, and Gender Studies</td>\n",
       "      <td>2629</td>\n",
       "      <td>0.00</td>\n",
       "      <td>1040</td>\n",
       "      <td>536</td>\n",
       "      <td>504</td>\n",
       "    </tr>\n",
       "    <tr>\n",
       "      <th>3</th>\n",
       "      <td>Biological and Biomedical Sciences</td>\n",
       "      <td>155834</td>\n",
       "      <td>0.08</td>\n",
       "      <td>1139</td>\n",
       "      <td>572</td>\n",
       "      <td>566</td>\n",
       "    </tr>\n",
       "    <tr>\n",
       "      <th>4</th>\n",
       "      <td>Business, Management, Marketing, and Related S...</td>\n",
       "      <td>221523</td>\n",
       "      <td>0.12</td>\n",
       "      <td>1072</td>\n",
       "      <td>534</td>\n",
       "      <td>537</td>\n",
       "    </tr>\n",
       "  </tbody>\n",
       "</table>\n",
       "</div>"
      ],
      "text/plain": [
       "                                IntendedCollegeMajor  TestTakers  Percent  \\\n",
       "0  Agriculture, AgricultureOperations, and Relate...       24913     0.01   \n",
       "1                  Architecture and Related Services       28988     0.02   \n",
       "2         Area, Ethnic, Cultural, and Gender Studies        2629     0.00   \n",
       "3                 Biological and Biomedical Sciences      155834     0.08   \n",
       "4  Business, Management, Marketing, and Related S...      221523     0.12   \n",
       "\n",
       "   Total  ReadingWriting  Math  \n",
       "0    977             496   481  \n",
       "1   1047             520   527  \n",
       "2   1040             536   504  \n",
       "3   1139             572   566  \n",
       "4   1072             534   537  "
      ]
     },
     "execution_count": 1109,
     "metadata": {},
     "output_type": "execute_result"
    }
   ],
   "source": [
    "# Change Percent data types to int\n",
    "def remove_percent_to_float(row):\n",
    "    row = float(row.replace(\"%\",\"\"))\n",
    "    return row/100\n",
    "\n",
    "sat_college_major_df['Percent'] = sat_college_major_df['Percent'].apply(remove_percent_to_float)\n",
    "sat_college_major_df.head()"
   ]
  },
  {
   "cell_type": "code",
   "execution_count": 1110,
   "metadata": {},
   "outputs": [
    {
     "data": {
      "text/plain": [
       "IntendedCollegeMajor     object\n",
       "TestTakers                int64\n",
       "Percent                 float64\n",
       "Total                     int64\n",
       "ReadingWriting            int64\n",
       "Math                      int64\n",
       "dtype: object"
      ]
     },
     "execution_count": 1110,
     "metadata": {},
     "output_type": "execute_result"
    }
   ],
   "source": [
    "sat_college_major_df.dtypes"
   ]
  },
  {
   "cell_type": "code",
   "execution_count": 1111,
   "metadata": {},
   "outputs": [
    {
     "data": {
      "text/html": [
       "<div>\n",
       "<style scoped>\n",
       "    .dataframe tbody tr th:only-of-type {\n",
       "        vertical-align: middle;\n",
       "    }\n",
       "\n",
       "    .dataframe tbody tr th {\n",
       "        vertical-align: top;\n",
       "    }\n",
       "\n",
       "    .dataframe thead th {\n",
       "        text-align: right;\n",
       "    }\n",
       "</style>\n",
       "<table border=\"1\" class=\"dataframe\">\n",
       "  <thead>\n",
       "    <tr style=\"text-align: right;\">\n",
       "      <th></th>\n",
       "      <th>School</th>\n",
       "      <th>Test Optional?</th>\n",
       "      <th>Applies to Class Year(s)</th>\n",
       "      <th>Policy Details</th>\n",
       "      <th>Number of Applicants</th>\n",
       "      <th>Accept Rate</th>\n",
       "      <th>SAT Total 25th-75th Percentile</th>\n",
       "      <th>ACT Total 25th-75th Percentile</th>\n",
       "      <th>Policy Check</th>\n",
       "    </tr>\n",
       "  </thead>\n",
       "  <tbody>\n",
       "    <tr>\n",
       "      <th>0</th>\n",
       "      <td>Stanford University</td>\n",
       "      <td>Yes</td>\n",
       "      <td>2021</td>\n",
       "      <td>Stanford has adopted a one-year test optional ...</td>\n",
       "      <td>47452</td>\n",
       "      <td>0.043</td>\n",
       "      <td>1440-1570</td>\n",
       "      <td>32-35</td>\n",
       "      <td>Yes</td>\n",
       "    </tr>\n",
       "    <tr>\n",
       "      <th>1</th>\n",
       "      <td>Harvard College</td>\n",
       "      <td>Yes</td>\n",
       "      <td>2021</td>\n",
       "      <td>Harvard has adopted a one-year test optional p...</td>\n",
       "      <td>42749</td>\n",
       "      <td>0.047</td>\n",
       "      <td>1460-1580</td>\n",
       "      <td>33-35</td>\n",
       "      <td>Yes</td>\n",
       "    </tr>\n",
       "    <tr>\n",
       "      <th>2</th>\n",
       "      <td>Princeton University</td>\n",
       "      <td>Yes</td>\n",
       "      <td>2021</td>\n",
       "      <td>Princeton has adopted a one-year test optional...</td>\n",
       "      <td>35370</td>\n",
       "      <td>0.055</td>\n",
       "      <td>1440-1570</td>\n",
       "      <td>32-35</td>\n",
       "      <td>Yes</td>\n",
       "    </tr>\n",
       "    <tr>\n",
       "      <th>3</th>\n",
       "      <td>Columbia University</td>\n",
       "      <td>Yes</td>\n",
       "      <td>2021</td>\n",
       "      <td>Columbia has adopted a one-year test optional ...</td>\n",
       "      <td>40203</td>\n",
       "      <td>0.055</td>\n",
       "      <td>1450-1560</td>\n",
       "      <td>33-35</td>\n",
       "      <td>Yes</td>\n",
       "    </tr>\n",
       "    <tr>\n",
       "      <th>4</th>\n",
       "      <td>Yale University</td>\n",
       "      <td>Yes</td>\n",
       "      <td>2021</td>\n",
       "      <td>Yale has adopted a one-year test optional poli...</td>\n",
       "      <td>36844</td>\n",
       "      <td>0.061</td>\n",
       "      <td>1460-1570</td>\n",
       "      <td>33-35</td>\n",
       "      <td>Yes</td>\n",
       "    </tr>\n",
       "  </tbody>\n",
       "</table>\n",
       "</div>"
      ],
      "text/plain": [
       "                 School Test Optional? Applies to Class Year(s)  \\\n",
       "0   Stanford University            Yes                     2021   \n",
       "1       Harvard College            Yes                     2021   \n",
       "2  Princeton University            Yes                     2021   \n",
       "3   Columbia University            Yes                     2021   \n",
       "4       Yale University            Yes                     2021   \n",
       "\n",
       "                                      Policy Details  Number of Applicants  \\\n",
       "0  Stanford has adopted a one-year test optional ...                 47452   \n",
       "1  Harvard has adopted a one-year test optional p...                 42749   \n",
       "2  Princeton has adopted a one-year test optional...                 35370   \n",
       "3  Columbia has adopted a one-year test optional ...                 40203   \n",
       "4  Yale has adopted a one-year test optional poli...                 36844   \n",
       "\n",
       "   Accept Rate SAT Total 25th-75th Percentile ACT Total 25th-75th Percentile  \\\n",
       "0        0.043                      1440-1570                          32-35   \n",
       "1        0.047                      1460-1580                          33-35   \n",
       "2        0.055                      1440-1570                          32-35   \n",
       "3        0.055                      1450-1560                          33-35   \n",
       "4        0.061                      1460-1570                          33-35   \n",
       "\n",
       "  Policy Check  \n",
       "0          Yes  \n",
       "1          Yes  \n",
       "2          Yes  \n",
       "3          Yes  \n",
       "4          Yes  "
      ]
     },
     "execution_count": 1111,
     "metadata": {},
     "output_type": "execute_result"
    }
   ],
   "source": [
    "# Change Accept Rate data types to int\n",
    "sat_college_df['Accept Rate'] = sat_college_df['Accept Rate'].apply(remove_percent_to_float)\n",
    "sat_college_df.head()"
   ]
  },
  {
   "cell_type": "code",
   "execution_count": 1112,
   "metadata": {},
   "outputs": [
    {
     "data": {
      "text/plain": [
       "School                             object\n",
       "Test Optional?                     object\n",
       "Applies to Class Year(s)           object\n",
       "Policy Details                     object\n",
       "Number of Applicants                int64\n",
       "Accept Rate                       float64\n",
       "SAT Total 25th-75th Percentile     object\n",
       "ACT Total 25th-75th Percentile     object\n",
       "Policy Check                       object\n",
       "dtype: object"
      ]
     },
     "execution_count": 1112,
     "metadata": {},
     "output_type": "execute_result"
    }
   ],
   "source": [
    "sat_college_df.dtypes"
   ]
  },
  {
   "cell_type": "code",
   "execution_count": 1113,
   "metadata": {},
   "outputs": [],
   "source": [
    "#Separate 25th and 75th percentile\n",
    "\n",
    "def split_first_element(string):\n",
    "    if string == '--':\n",
    "        pass\n",
    "    else:\n",
    "        string_split = string.split('-')[0]\n",
    "        return string_split\n",
    "\n",
    "def split_second_element(string):\n",
    "    if string == '--':\n",
    "        pass\n",
    "    else:\n",
    "        string_split = string.split('-')[1]\n",
    "        return string_split"
   ]
  },
  {
   "cell_type": "code",
   "execution_count": 1114,
   "metadata": {},
   "outputs": [],
   "source": [
    "sat_college_df['SAT_25th_percentile'] = sat_college_df['SAT Total 25th-75th Percentile'].apply(split_first_element)\n",
    "sat_college_df['SAT_75th_percentile'] = sat_college_df['SAT Total 25th-75th Percentile'].apply(split_second_element)\n",
    "sat_college_df['ACT_25th_percentile'] = sat_college_df['ACT Total 25th-75th Percentile'].apply(split_first_element)\n",
    "sat_college_df['ACT_75th_percentile'] = sat_college_df['ACT Total 25th-75th Percentile'].apply(split_second_element)"
   ]
  },
  {
   "cell_type": "code",
   "execution_count": 1115,
   "metadata": {},
   "outputs": [
    {
     "data": {
      "text/plain": [
       "School                             object\n",
       "Test Optional?                     object\n",
       "Applies to Class Year(s)           object\n",
       "Policy Details                     object\n",
       "Number of Applicants                int64\n",
       "Accept Rate                       float64\n",
       "SAT Total 25th-75th Percentile     object\n",
       "ACT Total 25th-75th Percentile     object\n",
       "Policy Check                       object\n",
       "SAT_25th_percentile                object\n",
       "SAT_75th_percentile                object\n",
       "ACT_25th_percentile                object\n",
       "ACT_75th_percentile                object\n",
       "dtype: object"
      ]
     },
     "execution_count": 1115,
     "metadata": {},
     "output_type": "execute_result"
    }
   ],
   "source": [
    "sat_college_df.dtypes"
   ]
  },
  {
   "cell_type": "code",
   "execution_count": 1116,
   "metadata": {},
   "outputs": [],
   "source": [
    "#Decided to drop rows with null values for their SAT scores\n",
    "sat_college_df.dropna(subset =['School', 'SAT_25th_percentile'], inplace = True)\n",
    "sat_college_df['SAT_25th_percentile'] = pd.to_numeric(sat_college_df['SAT_25th_percentile'],errors = 'coerce')"
   ]
  },
  {
   "cell_type": "code",
   "execution_count": 1117,
   "metadata": {},
   "outputs": [],
   "source": [
    "sat_college_df['SAT_75th_percentile'] = sat_college_df['SAT_75th_percentile'].astype(float)\n",
    "sat_college_df['ACT_25th_percentile'] = pd.to_numeric(sat_college_df['ACT_25th_percentile'],errors = 'coerce')\n",
    "sat_college_df['ACT_75th_percentile'] = pd.to_numeric(sat_college_df['ACT_75th_percentile'],errors = 'coerce')"
   ]
  },
  {
   "cell_type": "code",
   "execution_count": 1118,
   "metadata": {},
   "outputs": [
    {
     "data": {
      "text/plain": [
       "School                             object\n",
       "Test Optional?                     object\n",
       "Applies to Class Year(s)           object\n",
       "Policy Details                     object\n",
       "Number of Applicants                int64\n",
       "Accept Rate                       float64\n",
       "SAT Total 25th-75th Percentile     object\n",
       "ACT Total 25th-75th Percentile     object\n",
       "Policy Check                       object\n",
       "SAT_25th_percentile               float64\n",
       "SAT_75th_percentile               float64\n",
       "ACT_25th_percentile               float64\n",
       "ACT_75th_percentile               float64\n",
       "dtype: object"
      ]
     },
     "execution_count": 1118,
     "metadata": {},
     "output_type": "execute_result"
    }
   ],
   "source": [
    "sat_college_df.dtypes"
   ]
  },
  {
   "cell_type": "code",
   "execution_count": 1119,
   "metadata": {},
   "outputs": [
    {
     "data": {
      "text/plain": [
       "4"
      ]
     },
     "execution_count": 1119,
     "metadata": {},
     "output_type": "execute_result"
    }
   ],
   "source": [
    "sat_college_df['SAT_25th_percentile'].isnull().sum()"
   ]
  },
  {
   "cell_type": "code",
   "execution_count": 1143,
   "metadata": {},
   "outputs": [
    {
     "data": {
      "text/html": [
       "<div>\n",
       "<style scoped>\n",
       "    .dataframe tbody tr th:only-of-type {\n",
       "        vertical-align: middle;\n",
       "    }\n",
       "\n",
       "    .dataframe tbody tr th {\n",
       "        vertical-align: top;\n",
       "    }\n",
       "\n",
       "    .dataframe thead th {\n",
       "        text-align: right;\n",
       "    }\n",
       "</style>\n",
       "<table border=\"1\" class=\"dataframe\">\n",
       "  <thead>\n",
       "    <tr style=\"text-align: right;\">\n",
       "      <th></th>\n",
       "      <th>school</th>\n",
       "      <th>test_optional</th>\n",
       "      <th>class_years</th>\n",
       "      <th>policy_details</th>\n",
       "      <th>number_of_applicants_int</th>\n",
       "      <th>acceptance_rate_float</th>\n",
       "      <th>sat_total_middle_range</th>\n",
       "      <th>act_total_middle_range</th>\n",
       "      <th>policy_check</th>\n",
       "      <th>sat_25th_percentile</th>\n",
       "      <th>sat_75th_percentile</th>\n",
       "      <th>act_25th_percentile</th>\n",
       "      <th>act_75th_percentile</th>\n",
       "    </tr>\n",
       "  </thead>\n",
       "  <tbody>\n",
       "    <tr>\n",
       "      <th>0</th>\n",
       "      <td>Stanford University</td>\n",
       "      <td>Yes</td>\n",
       "      <td>2021</td>\n",
       "      <td>Stanford has adopted a one-year test optional ...</td>\n",
       "      <td>47452</td>\n",
       "      <td>0.043</td>\n",
       "      <td>1440-1570</td>\n",
       "      <td>32-35</td>\n",
       "      <td>Yes</td>\n",
       "      <td>1440.0</td>\n",
       "      <td>1570.0</td>\n",
       "      <td>32.0</td>\n",
       "      <td>35.0</td>\n",
       "    </tr>\n",
       "    <tr>\n",
       "      <th>1</th>\n",
       "      <td>Harvard College</td>\n",
       "      <td>Yes</td>\n",
       "      <td>2021</td>\n",
       "      <td>Harvard has adopted a one-year test optional p...</td>\n",
       "      <td>42749</td>\n",
       "      <td>0.047</td>\n",
       "      <td>1460-1580</td>\n",
       "      <td>33-35</td>\n",
       "      <td>Yes</td>\n",
       "      <td>1460.0</td>\n",
       "      <td>1580.0</td>\n",
       "      <td>33.0</td>\n",
       "      <td>35.0</td>\n",
       "    </tr>\n",
       "    <tr>\n",
       "      <th>2</th>\n",
       "      <td>Princeton University</td>\n",
       "      <td>Yes</td>\n",
       "      <td>2021</td>\n",
       "      <td>Princeton has adopted a one-year test optional...</td>\n",
       "      <td>35370</td>\n",
       "      <td>0.055</td>\n",
       "      <td>1440-1570</td>\n",
       "      <td>32-35</td>\n",
       "      <td>Yes</td>\n",
       "      <td>1440.0</td>\n",
       "      <td>1570.0</td>\n",
       "      <td>32.0</td>\n",
       "      <td>35.0</td>\n",
       "    </tr>\n",
       "    <tr>\n",
       "      <th>3</th>\n",
       "      <td>Columbia University</td>\n",
       "      <td>Yes</td>\n",
       "      <td>2021</td>\n",
       "      <td>Columbia has adopted a one-year test optional ...</td>\n",
       "      <td>40203</td>\n",
       "      <td>0.055</td>\n",
       "      <td>1450-1560</td>\n",
       "      <td>33-35</td>\n",
       "      <td>Yes</td>\n",
       "      <td>1450.0</td>\n",
       "      <td>1560.0</td>\n",
       "      <td>33.0</td>\n",
       "      <td>35.0</td>\n",
       "    </tr>\n",
       "    <tr>\n",
       "      <th>4</th>\n",
       "      <td>Yale University</td>\n",
       "      <td>Yes</td>\n",
       "      <td>2021</td>\n",
       "      <td>Yale has adopted a one-year test optional poli...</td>\n",
       "      <td>36844</td>\n",
       "      <td>0.061</td>\n",
       "      <td>1460-1570</td>\n",
       "      <td>33-35</td>\n",
       "      <td>Yes</td>\n",
       "      <td>1460.0</td>\n",
       "      <td>1570.0</td>\n",
       "      <td>33.0</td>\n",
       "      <td>35.0</td>\n",
       "    </tr>\n",
       "    <tr>\n",
       "      <th>5</th>\n",
       "      <td>California Institute of Technology</td>\n",
       "      <td>Yes (TB)</td>\n",
       "      <td>2021 2022</td>\n",
       "      <td>CalTech has adopted a two-year Test Blind poli...</td>\n",
       "      <td>8367</td>\n",
       "      <td>0.064</td>\n",
       "      <td>​​ 1530-1560</td>\n",
       "      <td>35-36</td>\n",
       "      <td>Yes</td>\n",
       "      <td>NaN</td>\n",
       "      <td>1560.0</td>\n",
       "      <td>35.0</td>\n",
       "      <td>36.0</td>\n",
       "    </tr>\n",
       "  </tbody>\n",
       "</table>\n",
       "</div>"
      ],
      "text/plain": [
       "                               school test_optional class_years  \\\n",
       "0                 Stanford University           Yes        2021   \n",
       "1                     Harvard College           Yes        2021   \n",
       "2                Princeton University           Yes        2021   \n",
       "3                 Columbia University           Yes        2021   \n",
       "4                     Yale University           Yes        2021   \n",
       "5  California Institute of Technology      Yes (TB)   2021 2022   \n",
       "\n",
       "                                      policy_details  \\\n",
       "0  Stanford has adopted a one-year test optional ...   \n",
       "1  Harvard has adopted a one-year test optional p...   \n",
       "2  Princeton has adopted a one-year test optional...   \n",
       "3  Columbia has adopted a one-year test optional ...   \n",
       "4  Yale has adopted a one-year test optional poli...   \n",
       "5  CalTech has adopted a two-year Test Blind poli...   \n",
       "\n",
       "   number_of_applicants_int  acceptance_rate_float sat_total_middle_range  \\\n",
       "0                     47452                  0.043              1440-1570   \n",
       "1                     42749                  0.047              1460-1580   \n",
       "2                     35370                  0.055              1440-1570   \n",
       "3                     40203                  0.055              1450-1560   \n",
       "4                     36844                  0.061              1460-1570   \n",
       "5                      8367                  0.064           ​​ 1530-1560   \n",
       "\n",
       "  act_total_middle_range policy_check  sat_25th_percentile  \\\n",
       "0                  32-35          Yes               1440.0   \n",
       "1                  33-35          Yes               1460.0   \n",
       "2                  32-35          Yes               1440.0   \n",
       "3                  33-35          Yes               1450.0   \n",
       "4                  33-35          Yes               1460.0   \n",
       "5                  35-36          Yes                  NaN   \n",
       "\n",
       "   sat_75th_percentile  act_25th_percentile  act_75th_percentile  \n",
       "0               1570.0                 32.0                 35.0  \n",
       "1               1580.0                 33.0                 35.0  \n",
       "2               1570.0                 32.0                 35.0  \n",
       "3               1560.0                 33.0                 35.0  \n",
       "4               1570.0                 33.0                 35.0  \n",
       "5               1560.0                 35.0                 36.0  "
      ]
     },
     "execution_count": 1143,
     "metadata": {},
     "output_type": "execute_result"
    }
   ],
   "source": [
    "sat_college_df.head(6)"
   ]
  },
  {
   "cell_type": "code",
   "execution_count": 1120,
   "metadata": {},
   "outputs": [
    {
     "data": {
      "text/plain": [
       "60     University of California—​Irvine\n",
       "93                         CUNY--Hunter\n",
       "114                CUNY--Baruch College\n",
       "242                   DePaul University\n",
       "261                     Montclair State\n",
       "Name: School, dtype: object"
      ]
     },
     "execution_count": 1120,
     "metadata": {},
     "output_type": "execute_result"
    }
   ],
   "source": [
    "#Check for school that has ACT score null values\n",
    "cond_act_null = sat_college_df['ACT_25th_percentile'].isnull()\n",
    "cond_act_null_df = sat_college_df[cond_act_null]\n",
    "\n",
    "cond_act_null_df['School']"
   ]
  },
  {
   "cell_type": "markdown",
   "metadata": {},
   "source": [
    "One of universities that has ACT scores with null values is University of California-Irvine. I decided not to drop the row as this row might be important to check SAT score correlation to GPA. With only 9 UC campus recorded, this row should not be dropped "
   ]
  },
  {
   "cell_type": "code",
   "execution_count": 1121,
   "metadata": {},
   "outputs": [],
   "source": [
    "#Drop null values in gpa_by_UC_college dataset\n",
    "gpa_uc_college_df.dropna(inplace = True)"
   ]
  },
  {
   "cell_type": "code",
   "execution_count": 1122,
   "metadata": {},
   "outputs": [
    {
     "data": {
      "text/plain": [
       "School                                        object\n",
       "High School GPA of middle 25%-75% students    object\n",
       "dtype: object"
      ]
     },
     "execution_count": 1122,
     "metadata": {},
     "output_type": "execute_result"
    }
   ],
   "source": [
    "gpa_uc_college_df.dtypes"
   ]
  },
  {
   "cell_type": "code",
   "execution_count": 1123,
   "metadata": {},
   "outputs": [],
   "source": [
    "gpa_uc_college_df['GPA_25th_percentile'] = gpa_uc_college_df['High School GPA of middle 25%-75% students'].apply(split_first_element)\n",
    "gpa_uc_college_df['GPA_75th_percentile'] = gpa_uc_college_df['High School GPA of middle 25%-75% students'].apply(split_second_element)"
   ]
  },
  {
   "cell_type": "code",
   "execution_count": 1124,
   "metadata": {},
   "outputs": [
    {
     "data": {
      "text/plain": [
       "School                                         object\n",
       "High School GPA of middle 25%-75% students     object\n",
       "GPA_25th_percentile                           float64\n",
       "GPA_75th_percentile                           float64\n",
       "dtype: object"
      ]
     },
     "execution_count": 1124,
     "metadata": {},
     "output_type": "execute_result"
    }
   ],
   "source": [
    "gpa_uc_college_df['GPA_75th_percentile'] = gpa_uc_college_df['GPA_75th_percentile'].astype(float)\n",
    "gpa_uc_college_df['GPA_25th_percentile'] = gpa_uc_college_df['GPA_25th_percentile'].astype(float)\n",
    "gpa_uc_college_df.dtypes"
   ]
  },
  {
   "cell_type": "code",
   "execution_count": 1125,
   "metadata": {},
   "outputs": [
    {
     "data": {
      "text/html": [
       "<div>\n",
       "<style scoped>\n",
       "    .dataframe tbody tr th:only-of-type {\n",
       "        vertical-align: middle;\n",
       "    }\n",
       "\n",
       "    .dataframe tbody tr th {\n",
       "        vertical-align: top;\n",
       "    }\n",
       "\n",
       "    .dataframe thead th {\n",
       "        text-align: right;\n",
       "    }\n",
       "</style>\n",
       "<table border=\"1\" class=\"dataframe\">\n",
       "  <thead>\n",
       "    <tr style=\"text-align: right;\">\n",
       "      <th></th>\n",
       "      <th>School</th>\n",
       "      <th>High School GPA of middle 25%-75% students</th>\n",
       "      <th>GPA_25th_percentile</th>\n",
       "      <th>GPA_75th_percentile</th>\n",
       "    </tr>\n",
       "  </thead>\n",
       "  <tbody>\n",
       "    <tr>\n",
       "      <th>0</th>\n",
       "      <td>University of California Berkeley</td>\n",
       "      <td>4.12-4.30</td>\n",
       "      <td>4.12</td>\n",
       "      <td>4.30</td>\n",
       "    </tr>\n",
       "    <tr>\n",
       "      <th>1</th>\n",
       "      <td>University of California Davis</td>\n",
       "      <td>3.95-4.25</td>\n",
       "      <td>3.95</td>\n",
       "      <td>4.25</td>\n",
       "    </tr>\n",
       "    <tr>\n",
       "      <th>2</th>\n",
       "      <td>University of California Irvine</td>\n",
       "      <td>3.96-4.26</td>\n",
       "      <td>3.96</td>\n",
       "      <td>4.26</td>\n",
       "    </tr>\n",
       "    <tr>\n",
       "      <th>3</th>\n",
       "      <td>University of California Los Angeles</td>\n",
       "      <td>4.19-4.32</td>\n",
       "      <td>4.19</td>\n",
       "      <td>4.32</td>\n",
       "    </tr>\n",
       "    <tr>\n",
       "      <th>4</th>\n",
       "      <td>University of California Merced</td>\n",
       "      <td>3.39-4.00</td>\n",
       "      <td>3.39</td>\n",
       "      <td>4.00</td>\n",
       "    </tr>\n",
       "  </tbody>\n",
       "</table>\n",
       "</div>"
      ],
      "text/plain": [
       "                                 School  \\\n",
       "0     University of California Berkeley   \n",
       "1        University of California Davis   \n",
       "2       University of California Irvine   \n",
       "3  University of California Los Angeles   \n",
       "4       University of California Merced   \n",
       "\n",
       "  High School GPA of middle 25%-75% students  GPA_25th_percentile  \\\n",
       "0                                  4.12-4.30                 4.12   \n",
       "1                                  3.95-4.25                 3.95   \n",
       "2                                  3.96-4.26                 3.96   \n",
       "3                                  4.19-4.32                 4.19   \n",
       "4                                  3.39-4.00                 3.39   \n",
       "\n",
       "   GPA_75th_percentile  \n",
       "0                 4.30  \n",
       "1                 4.25  \n",
       "2                 4.26  \n",
       "3                 4.32  \n",
       "4                 4.00  "
      ]
     },
     "execution_count": 1125,
     "metadata": {},
     "output_type": "execute_result"
    }
   ],
   "source": [
    "gpa_uc_college_df.head()"
   ]
  },
  {
   "cell_type": "markdown",
   "metadata": {},
   "source": [
    "### <font color = 'Maroon'>Rename all columns"
   ]
  },
  {
   "cell_type": "code",
   "execution_count": 1126,
   "metadata": {},
   "outputs": [],
   "source": [
    "sat_college_major_df.columns =['intended_college_major', 'num_sat_takers_int','percent_of_majors_float', 'total_sat_score', 'mean_sat_reading_writing', 'mean_sat_math']"
   ]
  },
  {
   "cell_type": "code",
   "execution_count": 1127,
   "metadata": {},
   "outputs": [],
   "source": [
    "sat_college_df.columns = ['school', 'test_optional', 'class_years', 'policy_details', 'number_of_applicants_int', 'acceptance_rate_float', 'sat_total_middle_range', 'act_total_middle_range', 'policy_check', 'sat_25th_percentile', 'sat_75th_percentile', 'act_25th_percentile', 'act_75th_percentile']"
   ]
  },
  {
   "cell_type": "code",
   "execution_count": 1128,
   "metadata": {},
   "outputs": [],
   "source": [
    "gpa_uc_college_df.columns = ['school', 'high_school_gpa_middle_range', 'gpa_25th_percentile', 'gpa_75th_percentile']"
   ]
  },
  {
   "cell_type": "code",
   "execution_count": 1129,
   "metadata": {},
   "outputs": [
    {
     "data": {
      "text/plain": [
       "school                       object\n",
       "test_optional                object\n",
       "class_years                  object\n",
       "policy_details               object\n",
       "number_of_applicants_int      int64\n",
       "acceptance_rate_float       float64\n",
       "sat_total_middle_range       object\n",
       "act_total_middle_range       object\n",
       "policy_check                 object\n",
       "sat_25th_percentile         float64\n",
       "sat_75th_percentile         float64\n",
       "act_25th_percentile         float64\n",
       "act_75th_percentile         float64\n",
       "dtype: object"
      ]
     },
     "execution_count": 1129,
     "metadata": {},
     "output_type": "execute_result"
    }
   ],
   "source": [
    "sat_college_df.dtypes"
   ]
  },
  {
   "cell_type": "markdown",
   "metadata": {},
   "source": [
    "### <font color = 'Maroon'>Additional Data Cleaning"
   ]
  },
  {
   "cell_type": "code",
   "execution_count": 1130,
   "metadata": {},
   "outputs": [
    {
     "data": {
      "text/html": [
       "<div>\n",
       "<style scoped>\n",
       "    .dataframe tbody tr th:only-of-type {\n",
       "        vertical-align: middle;\n",
       "    }\n",
       "\n",
       "    .dataframe tbody tr th {\n",
       "        vertical-align: top;\n",
       "    }\n",
       "\n",
       "    .dataframe thead th {\n",
       "        text-align: right;\n",
       "    }\n",
       "</style>\n",
       "<table border=\"1\" class=\"dataframe\">\n",
       "  <thead>\n",
       "    <tr style=\"text-align: right;\">\n",
       "      <th></th>\n",
       "      <th>school</th>\n",
       "      <th>test_optional</th>\n",
       "      <th>class_years</th>\n",
       "      <th>policy_details</th>\n",
       "      <th>number_of_applicants_int</th>\n",
       "      <th>acceptance_rate_float</th>\n",
       "      <th>sat_total_middle_range</th>\n",
       "      <th>act_total_middle_range</th>\n",
       "      <th>policy_check</th>\n",
       "      <th>sat_25th_percentile</th>\n",
       "      <th>sat_75th_percentile</th>\n",
       "      <th>act_25th_percentile</th>\n",
       "      <th>act_75th_percentile</th>\n",
       "    </tr>\n",
       "  </thead>\n",
       "  <tbody>\n",
       "    <tr>\n",
       "      <th>0</th>\n",
       "      <td>Stanford University</td>\n",
       "      <td>Yes</td>\n",
       "      <td>2021</td>\n",
       "      <td>Stanford has adopted a one-year test optional ...</td>\n",
       "      <td>47452</td>\n",
       "      <td>0.043</td>\n",
       "      <td>1440-1570</td>\n",
       "      <td>32-35</td>\n",
       "      <td>Yes</td>\n",
       "      <td>1440.0</td>\n",
       "      <td>1570.0</td>\n",
       "      <td>32.0</td>\n",
       "      <td>35.0</td>\n",
       "    </tr>\n",
       "    <tr>\n",
       "      <th>1</th>\n",
       "      <td>Harvard College</td>\n",
       "      <td>Yes</td>\n",
       "      <td>2021</td>\n",
       "      <td>Harvard has adopted a one-year test optional p...</td>\n",
       "      <td>42749</td>\n",
       "      <td>0.047</td>\n",
       "      <td>1460-1580</td>\n",
       "      <td>33-35</td>\n",
       "      <td>Yes</td>\n",
       "      <td>1460.0</td>\n",
       "      <td>1580.0</td>\n",
       "      <td>33.0</td>\n",
       "      <td>35.0</td>\n",
       "    </tr>\n",
       "    <tr>\n",
       "      <th>2</th>\n",
       "      <td>Princeton University</td>\n",
       "      <td>Yes</td>\n",
       "      <td>2021</td>\n",
       "      <td>Princeton has adopted a one-year test optional...</td>\n",
       "      <td>35370</td>\n",
       "      <td>0.055</td>\n",
       "      <td>1440-1570</td>\n",
       "      <td>32-35</td>\n",
       "      <td>Yes</td>\n",
       "      <td>1440.0</td>\n",
       "      <td>1570.0</td>\n",
       "      <td>32.0</td>\n",
       "      <td>35.0</td>\n",
       "    </tr>\n",
       "    <tr>\n",
       "      <th>3</th>\n",
       "      <td>Columbia University</td>\n",
       "      <td>Yes</td>\n",
       "      <td>2021</td>\n",
       "      <td>Columbia has adopted a one-year test optional ...</td>\n",
       "      <td>40203</td>\n",
       "      <td>0.055</td>\n",
       "      <td>1450-1560</td>\n",
       "      <td>33-35</td>\n",
       "      <td>Yes</td>\n",
       "      <td>1450.0</td>\n",
       "      <td>1560.0</td>\n",
       "      <td>33.0</td>\n",
       "      <td>35.0</td>\n",
       "    </tr>\n",
       "    <tr>\n",
       "      <th>4</th>\n",
       "      <td>Yale University</td>\n",
       "      <td>Yes</td>\n",
       "      <td>2021</td>\n",
       "      <td>Yale has adopted a one-year test optional poli...</td>\n",
       "      <td>36844</td>\n",
       "      <td>0.061</td>\n",
       "      <td>1460-1570</td>\n",
       "      <td>33-35</td>\n",
       "      <td>Yes</td>\n",
       "      <td>1460.0</td>\n",
       "      <td>1570.0</td>\n",
       "      <td>33.0</td>\n",
       "      <td>35.0</td>\n",
       "    </tr>\n",
       "  </tbody>\n",
       "</table>\n",
       "</div>"
      ],
      "text/plain": [
       "                 school test_optional class_years  \\\n",
       "0   Stanford University           Yes        2021   \n",
       "1       Harvard College           Yes        2021   \n",
       "2  Princeton University           Yes        2021   \n",
       "3   Columbia University           Yes        2021   \n",
       "4       Yale University           Yes        2021   \n",
       "\n",
       "                                      policy_details  \\\n",
       "0  Stanford has adopted a one-year test optional ...   \n",
       "1  Harvard has adopted a one-year test optional p...   \n",
       "2  Princeton has adopted a one-year test optional...   \n",
       "3  Columbia has adopted a one-year test optional ...   \n",
       "4  Yale has adopted a one-year test optional poli...   \n",
       "\n",
       "   number_of_applicants_int  acceptance_rate_float sat_total_middle_range  \\\n",
       "0                     47452                  0.043              1440-1570   \n",
       "1                     42749                  0.047              1460-1580   \n",
       "2                     35370                  0.055              1440-1570   \n",
       "3                     40203                  0.055              1450-1560   \n",
       "4                     36844                  0.061              1460-1570   \n",
       "\n",
       "  act_total_middle_range policy_check  sat_25th_percentile  \\\n",
       "0                  32-35          Yes               1440.0   \n",
       "1                  33-35          Yes               1460.0   \n",
       "2                  32-35          Yes               1440.0   \n",
       "3                  33-35          Yes               1450.0   \n",
       "4                  33-35          Yes               1460.0   \n",
       "\n",
       "   sat_75th_percentile  act_25th_percentile  act_75th_percentile  \n",
       "0               1570.0                 32.0                 35.0  \n",
       "1               1580.0                 33.0                 35.0  \n",
       "2               1570.0                 32.0                 35.0  \n",
       "3               1560.0                 33.0                 35.0  \n",
       "4               1570.0                 33.0                 35.0  "
      ]
     },
     "execution_count": 1130,
     "metadata": {},
     "output_type": "execute_result"
    }
   ],
   "source": [
    "sat_college_df['class_years'] = sat_college_df['class_years'].replace('All / Permanent Policy', 'Permanent')\n",
    "sat_college_df.head()"
   ]
  },
  {
   "cell_type": "markdown",
   "metadata": {},
   "source": [
    "### <font color = 'Maroon'> Add SAT and ACT scores column from sat_college_df to new df sat_college_california_df"
   ]
  },
  {
   "cell_type": "code",
   "execution_count": 1131,
   "metadata": {},
   "outputs": [
    {
     "data": {
      "text/html": [
       "<div>\n",
       "<style scoped>\n",
       "    .dataframe tbody tr th:only-of-type {\n",
       "        vertical-align: middle;\n",
       "    }\n",
       "\n",
       "    .dataframe tbody tr th {\n",
       "        vertical-align: top;\n",
       "    }\n",
       "\n",
       "    .dataframe thead th {\n",
       "        text-align: right;\n",
       "    }\n",
       "</style>\n",
       "<table border=\"1\" class=\"dataframe\">\n",
       "  <thead>\n",
       "    <tr style=\"text-align: right;\">\n",
       "      <th></th>\n",
       "      <th>school</th>\n",
       "      <th>test_optional</th>\n",
       "      <th>class_years</th>\n",
       "      <th>policy_details</th>\n",
       "      <th>number_of_applicants_int</th>\n",
       "      <th>acceptance_rate_float</th>\n",
       "      <th>sat_total_middle_range</th>\n",
       "      <th>act_total_middle_range</th>\n",
       "      <th>policy_check</th>\n",
       "      <th>sat_25th_percentile</th>\n",
       "      <th>sat_75th_percentile</th>\n",
       "      <th>act_25th_percentile</th>\n",
       "      <th>act_75th_percentile</th>\n",
       "    </tr>\n",
       "  </thead>\n",
       "  <tbody>\n",
       "    <tr>\n",
       "      <th>5</th>\n",
       "      <td>California Institute of Technology</td>\n",
       "      <td>Yes (TB)</td>\n",
       "      <td>2021 2022</td>\n",
       "      <td>CalTech has adopted a two-year Test Blind poli...</td>\n",
       "      <td>8367</td>\n",
       "      <td>0.064</td>\n",
       "      <td>​​ 1530-1560</td>\n",
       "      <td>35-36</td>\n",
       "      <td>Yes</td>\n",
       "      <td>NaN</td>\n",
       "      <td>1560.0</td>\n",
       "      <td>35.0</td>\n",
       "      <td>36.0</td>\n",
       "    </tr>\n",
       "    <tr>\n",
       "      <th>24</th>\n",
       "      <td>University of California—​Los Angeles</td>\n",
       "      <td>Yes</td>\n",
       "      <td>2021 2022 2023 2024</td>\n",
       "      <td>The UC system has adopted a two-year test opti...</td>\n",
       "      <td>111322</td>\n",
       "      <td>0.123</td>\n",
       "      <td>1290-1510</td>\n",
       "      <td>27-34</td>\n",
       "      <td>Yes</td>\n",
       "      <td>1290.0</td>\n",
       "      <td>1510.0</td>\n",
       "      <td>27.0</td>\n",
       "      <td>34.0</td>\n",
       "    </tr>\n",
       "    <tr>\n",
       "      <th>26</th>\n",
       "      <td>University of Southern California</td>\n",
       "      <td>Yes</td>\n",
       "      <td>2021</td>\n",
       "      <td>USC has adopted a one-year test optional polic...</td>\n",
       "      <td>64352</td>\n",
       "      <td>0.130</td>\n",
       "      <td>1350-1530</td>\n",
       "      <td>30-34</td>\n",
       "      <td>Yes</td>\n",
       "      <td>1350.0</td>\n",
       "      <td>1530.0</td>\n",
       "      <td>30.0</td>\n",
       "      <td>34.0</td>\n",
       "    </tr>\n",
       "    <tr>\n",
       "      <th>33</th>\n",
       "      <td>University of California—​Berkeley</td>\n",
       "      <td>Yes (TB)</td>\n",
       "      <td>2021 2022 2023 2024</td>\n",
       "      <td>Cal has adopted a four-year test blind policy ...</td>\n",
       "      <td>89621</td>\n",
       "      <td>0.148</td>\n",
       "      <td>1300-1530</td>\n",
       "      <td>28-34</td>\n",
       "      <td>Yes</td>\n",
       "      <td>1300.0</td>\n",
       "      <td>1530.0</td>\n",
       "      <td>28.0</td>\n",
       "      <td>34.0</td>\n",
       "    </tr>\n",
       "    <tr>\n",
       "      <th>60</th>\n",
       "      <td>University of California—​Irvine</td>\n",
       "      <td>Yes (TB)</td>\n",
       "      <td>2021 2022 2023 2024</td>\n",
       "      <td>UCI has adopted a four-year test blind policy ...</td>\n",
       "      <td>95568</td>\n",
       "      <td>0.265</td>\n",
       "      <td>1180-1440</td>\n",
       "      <td>--</td>\n",
       "      <td>Yes</td>\n",
       "      <td>1180.0</td>\n",
       "      <td>1440.0</td>\n",
       "      <td>NaN</td>\n",
       "      <td>NaN</td>\n",
       "    </tr>\n",
       "  </tbody>\n",
       "</table>\n",
       "</div>"
      ],
      "text/plain": [
       "                                   school test_optional          class_years  \\\n",
       "5      California Institute of Technology      Yes (TB)            2021 2022   \n",
       "24  University of California—​Los Angeles           Yes  2021 2022 2023 2024   \n",
       "26      University of Southern California           Yes                 2021   \n",
       "33     University of California—​Berkeley      Yes (TB)  2021 2022 2023 2024   \n",
       "60       University of California—​Irvine      Yes (TB)  2021 2022 2023 2024   \n",
       "\n",
       "                                       policy_details  \\\n",
       "5   CalTech has adopted a two-year Test Blind poli...   \n",
       "24  The UC system has adopted a two-year test opti...   \n",
       "26  USC has adopted a one-year test optional polic...   \n",
       "33  Cal has adopted a four-year test blind policy ...   \n",
       "60  UCI has adopted a four-year test blind policy ...   \n",
       "\n",
       "    number_of_applicants_int  acceptance_rate_float sat_total_middle_range  \\\n",
       "5                       8367                  0.064           ​​ 1530-1560   \n",
       "24                    111322                  0.123              1290-1510   \n",
       "26                     64352                  0.130              1350-1530   \n",
       "33                     89621                  0.148              1300-1530   \n",
       "60                     95568                  0.265              1180-1440   \n",
       "\n",
       "   act_total_middle_range policy_check  sat_25th_percentile  \\\n",
       "5                   35-36          Yes                  NaN   \n",
       "24                  27-34          Yes               1290.0   \n",
       "26                  30-34          Yes               1350.0   \n",
       "33                  28-34          Yes               1300.0   \n",
       "60                     --          Yes               1180.0   \n",
       "\n",
       "    sat_75th_percentile  act_25th_percentile  act_75th_percentile  \n",
       "5                1560.0                 35.0                 36.0  \n",
       "24               1510.0                 27.0                 34.0  \n",
       "26               1530.0                 30.0                 34.0  \n",
       "33               1530.0                 28.0                 34.0  \n",
       "60               1440.0                  NaN                  NaN  "
      ]
     },
     "execution_count": 1131,
     "metadata": {},
     "output_type": "execute_result"
    }
   ],
   "source": [
    "california_uni = sat_college_df['school'].str.contains('California')\n",
    "sat_college_california_df = sat_college_df[california_uni]\n",
    "sat_college_california_df.head()"
   ]
  },
  {
   "cell_type": "code",
   "execution_count": 1132,
   "metadata": {},
   "outputs": [
    {
     "name": "stderr",
     "output_type": "stream",
     "text": [
      "<ipython-input-1132-3bdb69ffe0d7>:7: SettingWithCopyWarning: \n",
      "A value is trying to be set on a copy of a slice from a DataFrame.\n",
      "Try using .loc[row_indexer,col_indexer] = value instead\n",
      "\n",
      "See the caveats in the documentation: https://pandas.pydata.org/pandas-docs/stable/user_guide/indexing.html#returning-a-view-versus-a-copy\n",
      "  sat_college_california_df['school'] = sat_college_california_df['school'].apply(california_cleaning)\n"
     ]
    }
   ],
   "source": [
    "def california_cleaning(row):\n",
    "    if '--' in row:\n",
    "        return row.replace(\"--\",\" \")\n",
    "    else:\n",
    "        return row\n",
    "\n",
    "sat_college_california_df['school'] = sat_college_california_df['school'].apply(california_cleaning)\n"
   ]
  },
  {
   "cell_type": "code",
   "execution_count": 1133,
   "metadata": {},
   "outputs": [
    {
     "data": {
      "text/plain": [
       "5                     California Institute of Technology\n",
       "24                 University of California—​Los Angeles\n",
       "26                     University of Southern California\n",
       "33                    University of California—​Berkeley\n",
       "60                      University of California—​Irvine\n",
       "65     California State Polytechnic University—​San L...\n",
       "69               University of California—​Santa Barbara\n",
       "72                   University of California—​San Diego\n",
       "101              California State University Los Angeles\n",
       "102               California State University Long Beach\n",
       "108                      University of California—​Davis\n",
       "143                 University of California—​Santa Cruz\n",
       "145                California State University Fullerton\n",
       "155       California State Polytechnic University Pomona\n",
       "160                   University of California Riverside\n",
       "173                   California State University Fresno\n",
       "180               California State University Northridge\n",
       "246           California State University San Bernardino\n",
       "266                       California Lutheran University\n",
       "269                      University of California—Merced\n",
       "275                    California State University Chico\n",
       "299             California State University Monterey Bay\n",
       "335                     St. Mary's College of California\n",
       "347               California State University Sacramento\n",
       "Name: school, dtype: object"
      ]
     },
     "execution_count": 1133,
     "metadata": {},
     "output_type": "execute_result"
    }
   ],
   "source": [
    "sat_college_california_df['school']"
   ]
  },
  {
   "cell_type": "code",
   "execution_count": 1134,
   "metadata": {},
   "outputs": [],
   "source": [
    "def california_cleaning_strip(name):\n",
    "    name = name.replace('\\u200b','').rstrip().replace('—', ' ')\n",
    "    return name"
   ]
  },
  {
   "cell_type": "code",
   "execution_count": 1135,
   "metadata": {},
   "outputs": [
    {
     "name": "stderr",
     "output_type": "stream",
     "text": [
      "<ipython-input-1135-915fa7786e29>:1: SettingWithCopyWarning: \n",
      "A value is trying to be set on a copy of a slice from a DataFrame.\n",
      "Try using .loc[row_indexer,col_indexer] = value instead\n",
      "\n",
      "See the caveats in the documentation: https://pandas.pydata.org/pandas-docs/stable/user_guide/indexing.html#returning-a-view-versus-a-copy\n",
      "  sat_college_california_df['school'] = sat_college_california_df['school'].apply(california_cleaning_strip)\n"
     ]
    }
   ],
   "source": [
    "sat_college_california_df['school'] = sat_college_california_df['school'].apply(california_cleaning_strip)"
   ]
  },
  {
   "cell_type": "code",
   "execution_count": 1136,
   "metadata": {},
   "outputs": [
    {
     "data": {
      "text/plain": [
       "5                     California Institute of Technology\n",
       "24                  University of California Los Angeles\n",
       "26                     University of Southern California\n",
       "33                     University of California Berkeley\n",
       "60                       University of California Irvine\n",
       "65     California State Polytechnic University San Lu...\n",
       "69                University of California Santa Barbara\n",
       "72                    University of California San Diego\n",
       "101              California State University Los Angeles\n",
       "102               California State University Long Beach\n",
       "108                       University of California Davis\n",
       "143                  University of California Santa Cruz\n",
       "145                California State University Fullerton\n",
       "155       California State Polytechnic University Pomona\n",
       "160                   University of California Riverside\n",
       "173                   California State University Fresno\n",
       "180               California State University Northridge\n",
       "246           California State University San Bernardino\n",
       "266                       California Lutheran University\n",
       "269                      University of California Merced\n",
       "275                    California State University Chico\n",
       "299             California State University Monterey Bay\n",
       "335                     St. Mary's College of California\n",
       "347               California State University Sacramento\n",
       "Name: school, dtype: object"
      ]
     },
     "execution_count": 1136,
     "metadata": {},
     "output_type": "execute_result"
    }
   ],
   "source": [
    "sat_college_california_df['school']"
   ]
  },
  {
   "cell_type": "code",
   "execution_count": 1137,
   "metadata": {},
   "outputs": [],
   "source": [
    "sat_college_california_df.to_csv('list of universities containing california.csv')"
   ]
  },
  {
   "cell_type": "code",
   "execution_count": 1138,
   "metadata": {},
   "outputs": [
    {
     "data": {
      "text/plain": [
       "5                     California Institute of Technology\n",
       "24                  University of California Los Angeles\n",
       "26                     University of Southern California\n",
       "33                     University of California Berkeley\n",
       "60                       University of California Irvine\n",
       "65     California State Polytechnic University San Lu...\n",
       "69                University of California Santa Barbara\n",
       "72                    University of California San Diego\n",
       "101              California State University Los Angeles\n",
       "102               California State University Long Beach\n",
       "108                       University of California Davis\n",
       "143                  University of California Santa Cruz\n",
       "145                California State University Fullerton\n",
       "155       California State Polytechnic University Pomona\n",
       "160                   University of California Riverside\n",
       "173                   California State University Fresno\n",
       "180               California State University Northridge\n",
       "246           California State University San Bernardino\n",
       "266                       California Lutheran University\n",
       "269                      University of California Merced\n",
       "275                    California State University Chico\n",
       "299             California State University Monterey Bay\n",
       "335                     St. Mary's College of California\n",
       "347               California State University Sacramento\n",
       "Name: school, dtype: object"
      ]
     },
     "execution_count": 1138,
     "metadata": {},
     "output_type": "execute_result"
    }
   ],
   "source": [
    "sat_college_california_df['school']"
   ]
  },
  {
   "cell_type": "code",
   "execution_count": 1139,
   "metadata": {},
   "outputs": [
    {
     "data": {
      "text/plain": [
       "0         University of California Berkeley\n",
       "1            University of California Davis\n",
       "2           University of California Irvine\n",
       "3      University of California Los Angeles\n",
       "4           University of California Merced\n",
       "5        University of California Riverside\n",
       "6        University of California San Diego\n",
       "7    University of California Santa Barbara\n",
       "8       University of California Santa Cruz\n",
       "Name: school, dtype: object"
      ]
     },
     "execution_count": 1139,
     "metadata": {},
     "output_type": "execute_result"
    }
   ],
   "source": [
    "gpa_uc_college_df['school']"
   ]
  },
  {
   "cell_type": "code",
   "execution_count": 1140,
   "metadata": {},
   "outputs": [],
   "source": [
    "gpa_uc_college_df.to_csv('university of california campuses.csv')"
   ]
  },
  {
   "cell_type": "code",
   "execution_count": 1141,
   "metadata": {},
   "outputs": [
    {
     "data": {
      "text/html": [
       "<div>\n",
       "<style scoped>\n",
       "    .dataframe tbody tr th:only-of-type {\n",
       "        vertical-align: middle;\n",
       "    }\n",
       "\n",
       "    .dataframe tbody tr th {\n",
       "        vertical-align: top;\n",
       "    }\n",
       "\n",
       "    .dataframe thead th {\n",
       "        text-align: right;\n",
       "    }\n",
       "</style>\n",
       "<table border=\"1\" class=\"dataframe\">\n",
       "  <thead>\n",
       "    <tr style=\"text-align: right;\">\n",
       "      <th></th>\n",
       "      <th>school</th>\n",
       "      <th>test_optional</th>\n",
       "      <th>class_years</th>\n",
       "      <th>policy_details</th>\n",
       "      <th>number_of_applicants_int</th>\n",
       "      <th>acceptance_rate_float</th>\n",
       "      <th>sat_total_middle_range</th>\n",
       "      <th>act_total_middle_range</th>\n",
       "      <th>policy_check</th>\n",
       "      <th>sat_25th_percentile</th>\n",
       "      <th>sat_75th_percentile</th>\n",
       "      <th>act_25th_percentile</th>\n",
       "      <th>act_75th_percentile</th>\n",
       "      <th>high_school_gpa_middle_range</th>\n",
       "      <th>gpa_25th_percentile</th>\n",
       "      <th>gpa_75th_percentile</th>\n",
       "    </tr>\n",
       "  </thead>\n",
       "  <tbody>\n",
       "    <tr>\n",
       "      <th>0</th>\n",
       "      <td>University of California Los Angeles</td>\n",
       "      <td>Yes</td>\n",
       "      <td>2021 2022 2023 2024</td>\n",
       "      <td>The UC system has adopted a two-year test opti...</td>\n",
       "      <td>111322</td>\n",
       "      <td>0.123</td>\n",
       "      <td>1290-1510</td>\n",
       "      <td>27-34</td>\n",
       "      <td>Yes</td>\n",
       "      <td>1290.0</td>\n",
       "      <td>1510.0</td>\n",
       "      <td>27.0</td>\n",
       "      <td>34.0</td>\n",
       "      <td>4.19-4.32</td>\n",
       "      <td>4.19</td>\n",
       "      <td>4.32</td>\n",
       "    </tr>\n",
       "    <tr>\n",
       "      <th>1</th>\n",
       "      <td>University of California Berkeley</td>\n",
       "      <td>Yes (TB)</td>\n",
       "      <td>2021 2022 2023 2024</td>\n",
       "      <td>Cal has adopted a four-year test blind policy ...</td>\n",
       "      <td>89621</td>\n",
       "      <td>0.148</td>\n",
       "      <td>1300-1530</td>\n",
       "      <td>28-34</td>\n",
       "      <td>Yes</td>\n",
       "      <td>1300.0</td>\n",
       "      <td>1530.0</td>\n",
       "      <td>28.0</td>\n",
       "      <td>34.0</td>\n",
       "      <td>4.12-4.30</td>\n",
       "      <td>4.12</td>\n",
       "      <td>4.30</td>\n",
       "    </tr>\n",
       "    <tr>\n",
       "      <th>2</th>\n",
       "      <td>University of California Irvine</td>\n",
       "      <td>Yes (TB)</td>\n",
       "      <td>2021 2022 2023 2024</td>\n",
       "      <td>UCI has adopted a four-year test blind policy ...</td>\n",
       "      <td>95568</td>\n",
       "      <td>0.265</td>\n",
       "      <td>1180-1440</td>\n",
       "      <td>--</td>\n",
       "      <td>Yes</td>\n",
       "      <td>1180.0</td>\n",
       "      <td>1440.0</td>\n",
       "      <td>NaN</td>\n",
       "      <td>NaN</td>\n",
       "      <td>3.96-4.26</td>\n",
       "      <td>3.96</td>\n",
       "      <td>4.26</td>\n",
       "    </tr>\n",
       "    <tr>\n",
       "      <th>3</th>\n",
       "      <td>University of California Santa Barbara</td>\n",
       "      <td>Yes</td>\n",
       "      <td>2021 2022 2023 2024</td>\n",
       "      <td>The UC system has adopted a two-year test opti...</td>\n",
       "      <td>93457</td>\n",
       "      <td>0.296</td>\n",
       "      <td>1260-1460</td>\n",
       "      <td>25-33</td>\n",
       "      <td>Yes</td>\n",
       "      <td>1260.0</td>\n",
       "      <td>1460.0</td>\n",
       "      <td>25.0</td>\n",
       "      <td>33.0</td>\n",
       "      <td>4.10-4.29</td>\n",
       "      <td>4.10</td>\n",
       "      <td>4.29</td>\n",
       "    </tr>\n",
       "    <tr>\n",
       "      <th>4</th>\n",
       "      <td>University of California San Diego</td>\n",
       "      <td>Yes</td>\n",
       "      <td>2021 2022 2023 2024</td>\n",
       "      <td>The UC system has adopted a two-year test opti...</td>\n",
       "      <td>97901</td>\n",
       "      <td>0.302</td>\n",
       "      <td>1250-1470</td>\n",
       "      <td>26-33</td>\n",
       "      <td>Yes</td>\n",
       "      <td>1250.0</td>\n",
       "      <td>1470.0</td>\n",
       "      <td>26.0</td>\n",
       "      <td>33.0</td>\n",
       "      <td>4.07-4.29</td>\n",
       "      <td>4.07</td>\n",
       "      <td>4.29</td>\n",
       "    </tr>\n",
       "    <tr>\n",
       "      <th>5</th>\n",
       "      <td>University of California Davis</td>\n",
       "      <td>Yes</td>\n",
       "      <td>2021 2022 2023 2024</td>\n",
       "      <td>The UC system has adopted a two-year test opti...</td>\n",
       "      <td>76647</td>\n",
       "      <td>0.412</td>\n",
       "      <td>1150-1410</td>\n",
       "      <td>25-31</td>\n",
       "      <td>Yes</td>\n",
       "      <td>1150.0</td>\n",
       "      <td>1410.0</td>\n",
       "      <td>25.0</td>\n",
       "      <td>31.0</td>\n",
       "      <td>3.95-4.25</td>\n",
       "      <td>3.95</td>\n",
       "      <td>4.25</td>\n",
       "    </tr>\n",
       "    <tr>\n",
       "      <th>6</th>\n",
       "      <td>University of California Santa Cruz</td>\n",
       "      <td>Yes (TB)</td>\n",
       "      <td>2021 2022 2023 2024</td>\n",
       "      <td>UCSC has adopted a four-year test blind policy...</td>\n",
       "      <td>55906</td>\n",
       "      <td>0.515</td>\n",
       "      <td>1200-1360</td>\n",
       "      <td>24-30</td>\n",
       "      <td>Yes</td>\n",
       "      <td>1200.0</td>\n",
       "      <td>1360.0</td>\n",
       "      <td>24.0</td>\n",
       "      <td>30.0</td>\n",
       "      <td>3.81-4.20</td>\n",
       "      <td>3.81</td>\n",
       "      <td>4.20</td>\n",
       "    </tr>\n",
       "    <tr>\n",
       "      <th>7</th>\n",
       "      <td>University of California Riverside</td>\n",
       "      <td>Yes</td>\n",
       "      <td>2021 2022 2023 2024</td>\n",
       "      <td>The UC system has adopted a two-year test opti...</td>\n",
       "      <td>49788</td>\n",
       "      <td>0.567</td>\n",
       "      <td>1130-1340</td>\n",
       "      <td>24-30</td>\n",
       "      <td>Yes</td>\n",
       "      <td>1130.0</td>\n",
       "      <td>1340.0</td>\n",
       "      <td>24.0</td>\n",
       "      <td>30.0</td>\n",
       "      <td>3.7-4.13</td>\n",
       "      <td>3.70</td>\n",
       "      <td>4.13</td>\n",
       "    </tr>\n",
       "    <tr>\n",
       "      <th>8</th>\n",
       "      <td>University of California Merced</td>\n",
       "      <td>Yes</td>\n",
       "      <td>2021 2022 2023 2024</td>\n",
       "      <td>The UC system has adopted a two-year test opti...</td>\n",
       "      <td>25368</td>\n",
       "      <td>0.720</td>\n",
       "      <td>980-1180</td>\n",
       "      <td>17-22</td>\n",
       "      <td>Yes</td>\n",
       "      <td>980.0</td>\n",
       "      <td>1180.0</td>\n",
       "      <td>17.0</td>\n",
       "      <td>22.0</td>\n",
       "      <td>3.39-4.00</td>\n",
       "      <td>3.39</td>\n",
       "      <td>4.00</td>\n",
       "    </tr>\n",
       "  </tbody>\n",
       "</table>\n",
       "</div>"
      ],
      "text/plain": [
       "                                   school test_optional          class_years  \\\n",
       "0    University of California Los Angeles           Yes  2021 2022 2023 2024   \n",
       "1       University of California Berkeley      Yes (TB)  2021 2022 2023 2024   \n",
       "2         University of California Irvine      Yes (TB)  2021 2022 2023 2024   \n",
       "3  University of California Santa Barbara           Yes  2021 2022 2023 2024   \n",
       "4      University of California San Diego           Yes  2021 2022 2023 2024   \n",
       "5          University of California Davis           Yes  2021 2022 2023 2024   \n",
       "6     University of California Santa Cruz      Yes (TB)  2021 2022 2023 2024   \n",
       "7      University of California Riverside           Yes  2021 2022 2023 2024   \n",
       "8         University of California Merced           Yes  2021 2022 2023 2024   \n",
       "\n",
       "                                      policy_details  \\\n",
       "0  The UC system has adopted a two-year test opti...   \n",
       "1  Cal has adopted a four-year test blind policy ...   \n",
       "2  UCI has adopted a four-year test blind policy ...   \n",
       "3  The UC system has adopted a two-year test opti...   \n",
       "4  The UC system has adopted a two-year test opti...   \n",
       "5  The UC system has adopted a two-year test opti...   \n",
       "6  UCSC has adopted a four-year test blind policy...   \n",
       "7  The UC system has adopted a two-year test opti...   \n",
       "8  The UC system has adopted a two-year test opti...   \n",
       "\n",
       "   number_of_applicants_int  acceptance_rate_float sat_total_middle_range  \\\n",
       "0                    111322                  0.123              1290-1510   \n",
       "1                     89621                  0.148              1300-1530   \n",
       "2                     95568                  0.265              1180-1440   \n",
       "3                     93457                  0.296              1260-1460   \n",
       "4                     97901                  0.302              1250-1470   \n",
       "5                     76647                  0.412              1150-1410   \n",
       "6                     55906                  0.515              1200-1360   \n",
       "7                     49788                  0.567              1130-1340   \n",
       "8                     25368                  0.720               980-1180   \n",
       "\n",
       "  act_total_middle_range policy_check  sat_25th_percentile  \\\n",
       "0                  27-34          Yes               1290.0   \n",
       "1                  28-34          Yes               1300.0   \n",
       "2                     --          Yes               1180.0   \n",
       "3                  25-33          Yes               1260.0   \n",
       "4                  26-33          Yes               1250.0   \n",
       "5                  25-31          Yes               1150.0   \n",
       "6                  24-30          Yes               1200.0   \n",
       "7                  24-30          Yes               1130.0   \n",
       "8                  17-22          Yes                980.0   \n",
       "\n",
       "   sat_75th_percentile  act_25th_percentile  act_75th_percentile  \\\n",
       "0               1510.0                 27.0                 34.0   \n",
       "1               1530.0                 28.0                 34.0   \n",
       "2               1440.0                  NaN                  NaN   \n",
       "3               1460.0                 25.0                 33.0   \n",
       "4               1470.0                 26.0                 33.0   \n",
       "5               1410.0                 25.0                 31.0   \n",
       "6               1360.0                 24.0                 30.0   \n",
       "7               1340.0                 24.0                 30.0   \n",
       "8               1180.0                 17.0                 22.0   \n",
       "\n",
       "  high_school_gpa_middle_range  gpa_25th_percentile  gpa_75th_percentile  \n",
       "0                    4.19-4.32                 4.19                 4.32  \n",
       "1                    4.12-4.30                 4.12                 4.30  \n",
       "2                    3.96-4.26                 3.96                 4.26  \n",
       "3                    4.10-4.29                 4.10                 4.29  \n",
       "4                    4.07-4.29                 4.07                 4.29  \n",
       "5                    3.95-4.25                 3.95                 4.25  \n",
       "6                    3.81-4.20                 3.81                 4.20  \n",
       "7                     3.7-4.13                 3.70                 4.13  \n",
       "8                    3.39-4.00                 3.39                 4.00  "
      ]
     },
     "execution_count": 1141,
     "metadata": {},
     "output_type": "execute_result"
    }
   ],
   "source": [
    "#Merge gpa_uc_college_df to sat_college_california_df\n",
    "\n",
    "sat_college_california_df = pd.merge(sat_college_california_df, gpa_uc_college_df, on ='school', how ='inner')\n",
    "sat_college_california_df"
   ]
  },
  {
   "cell_type": "code",
   "execution_count": 1144,
   "metadata": {},
   "outputs": [],
   "source": [
    "sat_college_california_df.to_csv('list of california universities with merged high school GPA value.csv')"
   ]
  },
  {
   "cell_type": "code",
   "execution_count": 1146,
   "metadata": {},
   "outputs": [],
   "source": [
    "sat_college_major_df.to_csv('cleaned intended college major and mean SAT scores.csv')"
   ]
  },
  {
   "cell_type": "code",
   "execution_count": 1147,
   "metadata": {},
   "outputs": [],
   "source": [
    "sat_college_df.to_csv('cleaned data of universities with their ACT and SAT scores.csv')"
   ]
  },
  {
   "cell_type": "markdown",
   "metadata": {},
   "source": [
    "### Data Dictionary\n",
    "\n",
    "|Feature|Type|Dataset|Description|\n",
    "|---|---|---|---|\n",
    "|**intended_college_major**|*object*|College Board 2019 SAT Annual Report|Student's intended college majors (total of 38 majors)| \n",
    "|**num_sat_takers_int**|*integer*|College Board 2019 SAT Annual Report|Number of test takers corresponding to the intended college major|\n",
    "|**percent_of_majors_float**|*float*|College Board 2019 SAT Annual Report|Percent(%) of test takers choosing the intended majors| \n",
    "|**total_sat_score**|*integer*|College Board 2019 SAT Annual Report| Mean total SAT score (max 1600) |\n",
    "|**mean_sat_reading_writing**|*integer*|College Board 2019 SAT Annual Report|Mean reading writing SAT score (max 800).| \n",
    "|**mean_sat_math**|*integer*|College Board 2019 SAT Annual Report|Mean math SAT score (max 800)|\n",
    "\n",
    "|Feature|Type|Dataset|Description|\n",
    "|---|---|---|---|\n",
    "|**school**|*object*|Compass Education Group SAT and ACT Policies with Score Ranges|College or university name| \n",
    "|**test_optional**|*object*|Compass Education Group SAT and ACT Policies with Score Ranges|Test-optinal policy implementation ( Yes or No)|\n",
    "|**class_years**|*object*|Compass Education Group SAT and ACT Policies with Score Ranges|Class years that are elligible| \n",
    "|**policy_details**|*object*|Compass Education Group SAT and ACT Policies with Score Ranges|Details of test optional policy|\n",
    "|**number_of_applicants_int**|*integer*|Compass Education Group SAT and ACT Policies with Score Ranges|Number of applicants to each school| \n",
    "|**acceptance_rate_float**|*float*|Compass Education Group SAT and ACT Policies with Score Ranges|Percentage(%) of students who are accepted|\n",
    "|**sat_total_middle_range**|*object*|Compass Education Group SAT and ACT Policies with Score Ranges|Range of 25th and 75th percentile SAT scores accepted by the school|\n",
    "|**act_total_middle_range**|*object*|Compass Education Group SAT and ACT Policies with Score Ranges|Range of 25th and 75th percentile ACT scores accepted by the school|\n",
    "|**policy_check**|*object*|Compass Education Group SAT and ACT Policies with Score Ranges|Policy buddy check if 'test_optional' is correctly inputted based on sentiment)|\n",
    "|**sat_25th_percentile**|*float*|Compass Education Group SAT and ACT Policies with Score Ranges|25th percentile of school's accepted SAT scores|\n",
    "|**sat_75th_percentile**|*float*|Compass Education Group SAT and ACT Policies with Score Ranges|75th percentile of school's accepted SAT scores|\n",
    "|**act_25th_percentile**|*float*|Compass Education Group SAT and ACT Policies with Score Ranges|25th percentile of school's accepted ACT scores)|\n",
    "|**act_75th_percentile**|*float*|Compass Education Group SAT and ACT Policies with Score Ranges|75th percentile of school's accepted ACT scores)|\n",
    "\n",
    "|Feature|Type|Dataset|Description|\n",
    "|---|---|---|---|\n",
    "|**high_school_gpa_middle_range**|*float*|University of California Freshman Admit Data|Range of 25th and 75th percentile high school GPA accepted by the school|\n",
    "|**gpa_25th_percentile**|*float*|University of California Freshman Admit Data|25th percentile of school's accepted high school GPA|\n",
    "|**gpa_75th_percentile**|*float*|University of California Freshman Admit Data|75th percentile of school's accepted high school GPA| \n",
    "\n",
    "[Here's a quick link to a short guide for formatting markdown in Jupyter notebooks](https://jupyter-notebook.readthedocs.io/en/stable/examples/Notebook/Working%20With%20Markdown%20Cells.html).\n",
    "\n",
    "Provided is the skeleton for formatting a markdown table, with columns headers that will help you create a data dictionary to quickly summarize your data, as well as some examples. **This would be a great thing to copy and paste into your custom README for this project.**\n",
    "\n",
    "*Note*: if you are unsure of what a feature is, check the source of the data! This can be found in the README."
   ]
  },
  {
   "cell_type": "code",
   "execution_count": null,
   "metadata": {},
   "outputs": [],
   "source": []
  },
  {
   "cell_type": "code",
   "execution_count": null,
   "metadata": {},
   "outputs": [],
   "source": []
  },
  {
   "cell_type": "markdown",
   "metadata": {},
   "source": [
    "**To-Do:** *Edit the table below to create your own data dictionary for the datasets you chose.*\n",
    "\n",
    "|Feature|Type|Dataset|Description|\n",
    "|---|---|---|---|\n",
    "|column name|int/float/object|ACT/SAT|This is an example| \n"
   ]
  },
  {
   "cell_type": "markdown",
   "metadata": {},
   "source": [
    "## Exploratory Data Analysis\n",
    "\n",
    "Complete the following steps to explore your data. You are welcome to do more EDA than the steps outlined here as you feel necessary:\n",
    "1. Summary Statistics.\n",
    "2. Use a **dictionary comprehension** to apply the standard deviation function you create in part 1 to each numeric column in the dataframe.  **No loops**.\n",
    "    - Assign the output to variable `sd` as a dictionary where: \n",
    "        - Each column name is now a key \n",
    "        - That standard deviation of the column is the value \n",
    "        - *Example Output :* `{'ACT_Math': 120, 'ACT_Reading': 120, ...}`\n",
    "3. Investigate trends in the data.\n",
    "    - Using sorting and/or masking (along with the `.head()` method to avoid printing our entire dataframe), consider questions relevant to your problem statement. Some examples are provided below (but feel free to change these questions for your specific problem):\n",
    "        - Which states have the highest and lowest participation rates for the 2017, 2019, or 2019 SAT and ACT?\n",
    "        - Which states have the highest and lowest mean total/composite scores for the 2017, 2019, or 2019 SAT and ACT?\n",
    "        - Do any states with 100% participation on a given test have a rate change year-to-year?\n",
    "        - Do any states show have >50% participation on *both* tests each year?\n",
    "        - Which colleges have the highest median SAT and ACT scores for admittance?\n",
    "        - Which California school districts have the highest and lowest mean test scores?\n",
    "    - **You should comment on your findings at each step in a markdown cell below your code block**. Make sure you include at least one example of sorting your dataframe by a column, and one example of using boolean filtering (i.e., masking) to select a subset of the dataframe."
   ]
  },
  {
   "cell_type": "code",
   "execution_count": null,
   "metadata": {},
   "outputs": [],
   "source": [
    "#Code:"
   ]
  },
  {
   "cell_type": "markdown",
   "metadata": {},
   "source": [
    "**To-Do:** *Edit this cell with your findings on trends in the data (step 3 above).*"
   ]
  },
  {
   "cell_type": "markdown",
   "metadata": {},
   "source": [
    "## Visualize the Data\n",
    "\n",
    "There's not a magic bullet recommendation for the right number of plots to understand a given dataset, but visualizing your data is *always* a good idea. Not only does it allow you to quickly convey your findings (even if you have a non-technical audience), it will often reveal trends in your data that escaped you when you were looking only at numbers. It is important to not only create visualizations, but to **interpret your visualizations** as well.\n",
    "\n",
    "**Every plot should**:\n",
    "- Have a title\n",
    "- Have axis labels\n",
    "- Have appropriate tick labels\n",
    "- Text is legible in a plot\n",
    "- Plots demonstrate meaningful and valid relationships\n",
    "- Have an interpretation to aid understanding\n",
    "\n",
    "Here is an example of what your plots should look like following the above guidelines. Note that while the content of this example is unrelated, the principles of visualization hold:\n",
    "\n",
    "![](https://snag.gy/hCBR1U.jpg)\n",
    "*Interpretation: The above image shows that as we increase our spending on advertising, our sales numbers also tend to increase. There is a positive correlation between advertising spending and sales.*\n",
    "\n",
    "---\n",
    "\n",
    "Here are some prompts to get you started with visualizations. Feel free to add additional visualizations as you see fit:\n",
    "1. Use Seaborn's heatmap with pandas `.corr()` to visualize correlations between all numeric features.\n",
    "    - Heatmaps are generally not appropriate for presentations, and should often be excluded from reports as they can be visually overwhelming. **However**, they can be extremely useful in identify relationships of potential interest (as well as identifying potential collinearity before modeling).\n",
    "    - Please take time to format your output, adding a title. Look through some of the additional arguments and options. (Axis labels aren't really necessary, as long as the title is informative).\n",
    "2. Visualize distributions using histograms. If you have a lot, consider writing a custom function and use subplots.\n",
    "    - *OPTIONAL*: Summarize the underlying distributions of your features (in words & statistics)\n",
    "         - Be thorough in your verbal description of these distributions.\n",
    "         - Be sure to back up these summaries with statistics.\n",
    "         - We generally assume that data we sample from a population will be normally distributed. Do we observe this trend? Explain your answers for each distribution and how you think this will affect estimates made from these data.\n",
    "3. Plot and interpret boxplots. \n",
    "    - Boxplots demonstrate central tendency and spread in variables. In a certain sense, these are somewhat redundant with histograms, but you may be better able to identify clear outliers or differences in IQR, etc.\n",
    "    - Multiple values can be plotted to a single boxplot as long as they are of the same relative scale (meaning they have similar min/max values).\n",
    "    - Each boxplot should:\n",
    "        - Only include variables of a similar scale\n",
    "        - Have clear labels for each variable\n",
    "        - Have appropriate titles and labels\n",
    "4. Plot and interpret scatter plots to view relationships between features. Feel free to write a custom function, and subplot if you'd like. Functions save both time and space.\n",
    "    - Your plots should have:\n",
    "        - Two clearly labeled axes\n",
    "        - A proper title\n",
    "        - Colors and symbols that are clear and unmistakable\n",
    "5. Additional plots of your choosing.\n",
    "    - Are there any additional trends or relationships you haven't explored? Was there something interesting you saw that you'd like to dive further into? It's likely that there are a few more plots you might want to generate to support your narrative and recommendations that you are building toward. **As always, make sure you're interpreting your plots as you go**."
   ]
  },
  {
   "cell_type": "code",
   "execution_count": null,
   "metadata": {},
   "outputs": [],
   "source": [
    "# Code"
   ]
  },
  {
   "cell_type": "markdown",
   "metadata": {},
   "source": [
    "## Conclusions and Recommendations"
   ]
  },
  {
   "cell_type": "markdown",
   "metadata": {},
   "source": [
    "Based on your exploration of the data, what are you key takeaways and recommendations? Make sure to answer your question of interest or address your problem statement here."
   ]
  },
  {
   "cell_type": "markdown",
   "metadata": {},
   "source": [
    "**To-Do:** *Edit this cell with your conclusions and recommendations.*"
   ]
  },
  {
   "cell_type": "markdown",
   "metadata": {},
   "source": [
    "Don't forget to create your README!\n",
    "\n",
    "**To-Do:** *If you combine your problem statement, data dictionary, brief summary of your analysis, and conclusions/recommendations, you have an amazing README.md file that quickly aligns your audience to the contents of your project.* Don't forget to cite your data sources!"
   ]
  }
 ],
 "metadata": {
  "anaconda-cloud": {},
  "kernelspec": {
   "display_name": "Python 3",
   "language": "python",
   "name": "python3"
  },
  "language_info": {
   "codemirror_mode": {
    "name": "ipython",
    "version": 3
   },
   "file_extension": ".py",
   "mimetype": "text/x-python",
   "name": "python",
   "nbconvert_exporter": "python",
   "pygments_lexer": "ipython3",
   "version": "3.8.5"
  }
 },
 "nbformat": 4,
 "nbformat_minor": 4
}
