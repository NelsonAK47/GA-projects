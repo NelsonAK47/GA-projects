{
 "cells": [
  {
   "cell_type": "markdown",
   "metadata": {},
   "source": [
    "# <font color = 'Maroon'> Project 3 - Web APIs & NLP Analysis on Dota 2 vs League of Legends Subreddits\n",
    "---"
   ]
  },
  {
   "cell_type": "markdown",
   "metadata": {},
   "source": [
    "## <font color = 'Maroon'> Background"
   ]
  },
  {
   "cell_type": "markdown",
   "metadata": {},
   "source": [
    "Reddit is the most popular discussion-based social media in the world and ranked as the 8th most popular website in the world [(*source*)](https://www.socialmediatoday.com/news/13-fascinating-facts-about-reddit-infographic/523516/). Many people rely on reddit to understand more about a particular topic through subreddit. Reddit consistently gains momentum due to its constant support from the community who actively contributes information and opinions to the subreddits that they like. Subreddit covers a wide range of topics, from finance, politics to gaming and memes. Also, people can just subscribe to the subreddits and they will be continuously updated with discussions pertaining to the topics. Those subreddits are also well-maintained by reddit moderators to ensure posts are proper and contain no bullying or harassment.\n",
    "\n",
    "As such, this project aims to understand the differing gaming aspects between two subreddits through the power of Natural Language Processing (NLP). The two subreddits are [DotA2](https://www.reddit.com/r/DotA2/) and [League of Legends](https://www.reddit.com/r/leagueoflegends/)."
   ]
  },
  {
   "cell_type": "markdown",
   "metadata": {},
   "source": [
    "## <font color = 'Maroon'> Problem Statement"
   ]
  },
  {
   "cell_type": "markdown",
   "metadata": {},
   "source": [
    "Due to the Covid-19 pandemic, many people has shifted to online activities to maintain relationship with their closed ones. One of the most popular online activities is gaming. Online gaming has since garnered more attention and has also been the core to many communities. The start of many popular online games are Dota2 and League of Legends, in which the games are free and require massive teamwork to win the game. Both games have been around since 2011 and 2009 consecutively, with Dota2 as the continuation of Dota (released in 2003) followed by its success. Even in 2022, both games are still in the top 20 most popular PC games in the world [(source)](https://newzoo.com/insights/rankings/top-20-pc-games).\n",
    "\n",
    "Both Dota2 and LOL are Role-Playing Game (RPG) and each teammate needs to play a character and act as a certain role (top laner, jungler, mid laner, bottom laner and support). Each of the laners can also build their characters as carries, cores, gankers, etc depending on their items purchase and also the natural abilities of the characters.\n",
    "\n",
    "Due to the many complex character abilities and strategies, Dota2 and LOL fanbase communities like to discuss their builds, items, skins, highlights of their matches as well as top competition team plays in reddit. Fun fact, Dota2 highest level of competition (The International 2021) has the largest prize pool in any esports tournament worldwide ever. It has the prize pool of \\\\$40 millions, compared to Fortnite World Cup finals 2019 which is \\\\$15 millions. \n",
    "\n",
    "As a junior data scientist in Twitch, i was tasked to create a feature of an internal ambitious project. The team has been developing news feed in Twitch and one of the category is gaming. I was asked to give insights of two similar games and create a classification machine learning model for future posts so Twitch streamers/users can get personalised news feed with correct tags on the feed.\n",
    "\n",
    "Observing the popularity of Dota2, I decided to compare Dota2 posts vs League of Legends posts as both games are similar in nature."
   ]
  },
  {
   "cell_type": "markdown",
   "metadata": {},
   "source": [
    "## <font color = 'Maroon'> Approach"
   ]
  },
  {
   "cell_type": "markdown",
   "metadata": {},
   "source": [
    "Below are the proposed approach for this project\n",
    "\n",
    "1. Data Collection\n",
    "    - Scrape two reddit posts using Pushshift API\n",
    "    - Combine posts together after each API pull\n",
    "\n",
    "\n",
    "2. Data Cleaning and EDA\n",
    "    - Clean selftext and title words by using regex, remove punctuations and stop words as well as tokenize, stem and lemmatize the texts\n",
    "    - Using NLP through Count Vectorizer and TF-IDF Vectorizer to analyse the word frequency for both subreddits\n",
    "   \n",
    "   \n",
    "3. Machine Modelling & Selection\n",
    "    - Utilization of pipelines to orchestrate the machine learning operations and allow a series of data transformations linkage to a measurable   modelling process\n",
    "    - Different classification machine learning models development (Logistic Regression, Multinomial Naive Bayes, K-Nearest Neighbor as well as Random Forest Classifier) and compare them to choose the best model\n",
    "    - GridSearchCV coupled with pipeline hyperparameter tuning to enable model accuracy enhancement\n",
    "    - Top important words from each machine learning model understanding\n",
    "    "
   ]
  },
  {
   "cell_type": "markdown",
   "metadata": {},
   "source": [
    "## <font color = 'Maroon'> Data Scraping with PushShift API"
   ]
  },
  {
   "cell_type": "markdown",
   "metadata": {},
   "source": [
    "Data collection by using PushShift API to pull DotA2 and LOL subreddit posts"
   ]
  },
  {
   "cell_type": "code",
   "execution_count": 59,
   "metadata": {},
   "outputs": [],
   "source": [
    "#import libraries\n",
    "import pandas as pd\n",
    "import numpy as np\n",
    "import matplotlib.pyplot as plt\n",
    "import seaborn as sns\n",
    "from math import sqrt\n",
    "from sklearn import datasets\n",
    "from sklearn.model_selection import train_test_split, cross_val_score\n",
    "import requests\n",
    "import warnings\n",
    "warnings.filterwarnings('ignore')"
   ]
  },
  {
   "cell_type": "code",
   "execution_count": 60,
   "metadata": {},
   "outputs": [],
   "source": [
    "#Define function to get the API parameters, consisting of subreddit, size of posts and posted time\n",
    "def get_params(baseposts_df, subreddit):\n",
    "    params = {\n",
    "        'subreddit': subreddit, \n",
    "        'size': 100, \n",
    "        'before': baseposts_df.loc[(baseposts_df.shape[0] - 1), 'created_utc'] \n",
    "    }\n",
    "    return params"
   ]
  },
  {
   "cell_type": "code",
   "execution_count": 61,
   "metadata": {},
   "outputs": [],
   "source": [
    "#Define function to get the posts in the API and convert to json. Posts are in the data column\n",
    "def get_posts(params, baseurl='https://api.pushshift.io/reddit/search/submission'):\n",
    "    res = requests.get(baseurl, params)\n",
    "    if res.status_code != 200:\n",
    "        return f'Error! Status code: {res.status_code}'\n",
    "    else:\n",
    "        data = res.json()\n",
    "        posts = data['data']\n",
    "    return posts"
   ]
  },
  {
   "cell_type": "code",
   "execution_count": 62,
   "metadata": {},
   "outputs": [],
   "source": [
    "def create_new_df(posts):\n",
    "    return pd.DataFrame(posts)"
   ]
  },
  {
   "cell_type": "markdown",
   "metadata": {},
   "source": [
    "### <font color = 'Maroon'> Retrieving DotA2 posts"
   ]
  },
  {
   "cell_type": "code",
   "execution_count": 63,
   "metadata": {},
   "outputs": [],
   "source": [
    "params_dota = {\n",
    "    'subreddit': 'DotA2', \n",
    "    'size': 100\n",
    "}"
   ]
  },
  {
   "cell_type": "code",
   "execution_count": 64,
   "metadata": {},
   "outputs": [],
   "source": [
    "posts_dota = get_posts(params_dota)"
   ]
  },
  {
   "cell_type": "code",
   "execution_count": 65,
   "metadata": {},
   "outputs": [],
   "source": [
    "dota_df = create_new_df(posts_dota)"
   ]
  },
  {
   "cell_type": "code",
   "execution_count": 66,
   "metadata": {},
   "outputs": [
    {
     "data": {
      "text/plain": [
       "(99, 83)"
      ]
     },
     "execution_count": 66,
     "metadata": {},
     "output_type": "execute_result"
    }
   ],
   "source": [
    "dota_df.shape"
   ]
  },
  {
   "cell_type": "code",
   "execution_count": 67,
   "metadata": {},
   "outputs": [
    {
     "data": {
      "text/html": [
       "<div>\n",
       "<style scoped>\n",
       "    .dataframe tbody tr th:only-of-type {\n",
       "        vertical-align: middle;\n",
       "    }\n",
       "\n",
       "    .dataframe tbody tr th {\n",
       "        vertical-align: top;\n",
       "    }\n",
       "\n",
       "    .dataframe thead th {\n",
       "        text-align: right;\n",
       "    }\n",
       "</style>\n",
       "<table border=\"1\" class=\"dataframe\">\n",
       "  <thead>\n",
       "    <tr style=\"text-align: right;\">\n",
       "      <th></th>\n",
       "      <th>all_awardings</th>\n",
       "      <th>allow_live_comments</th>\n",
       "      <th>author</th>\n",
       "      <th>author_flair_css_class</th>\n",
       "      <th>author_flair_richtext</th>\n",
       "      <th>author_flair_text</th>\n",
       "      <th>author_flair_type</th>\n",
       "      <th>author_fullname</th>\n",
       "      <th>author_is_blocked</th>\n",
       "      <th>author_patreon_flair</th>\n",
       "      <th>...</th>\n",
       "      <th>author_flair_text_color</th>\n",
       "      <th>removed_by_category</th>\n",
       "      <th>media_metadata</th>\n",
       "      <th>discussion_type</th>\n",
       "      <th>suggested_sort</th>\n",
       "      <th>poll_data</th>\n",
       "      <th>crosspost_parent</th>\n",
       "      <th>crosspost_parent_list</th>\n",
       "      <th>gallery_data</th>\n",
       "      <th>is_gallery</th>\n",
       "    </tr>\n",
       "  </thead>\n",
       "  <tbody>\n",
       "    <tr>\n",
       "      <th>0</th>\n",
       "      <td>[]</td>\n",
       "      <td>False</td>\n",
       "      <td>HoggiQQ</td>\n",
       "      <td>None</td>\n",
       "      <td>[]</td>\n",
       "      <td>None</td>\n",
       "      <td>text</td>\n",
       "      <td>t2_e4tqz</td>\n",
       "      <td>False</td>\n",
       "      <td>False</td>\n",
       "      <td>...</td>\n",
       "      <td>NaN</td>\n",
       "      <td>NaN</td>\n",
       "      <td>NaN</td>\n",
       "      <td>NaN</td>\n",
       "      <td>NaN</td>\n",
       "      <td>NaN</td>\n",
       "      <td>NaN</td>\n",
       "      <td>NaN</td>\n",
       "      <td>NaN</td>\n",
       "      <td>NaN</td>\n",
       "    </tr>\n",
       "    <tr>\n",
       "      <th>1</th>\n",
       "      <td>[]</td>\n",
       "      <td>False</td>\n",
       "      <td>StartingFrom-273</td>\n",
       "      <td>None</td>\n",
       "      <td>[]</td>\n",
       "      <td>None</td>\n",
       "      <td>text</td>\n",
       "      <td>t2_cy6t9qbb</td>\n",
       "      <td>False</td>\n",
       "      <td>False</td>\n",
       "      <td>...</td>\n",
       "      <td>NaN</td>\n",
       "      <td>NaN</td>\n",
       "      <td>NaN</td>\n",
       "      <td>NaN</td>\n",
       "      <td>NaN</td>\n",
       "      <td>NaN</td>\n",
       "      <td>NaN</td>\n",
       "      <td>NaN</td>\n",
       "      <td>NaN</td>\n",
       "      <td>NaN</td>\n",
       "    </tr>\n",
       "    <tr>\n",
       "      <th>2</th>\n",
       "      <td>[]</td>\n",
       "      <td>False</td>\n",
       "      <td>lvndrs</td>\n",
       "      <td>marci</td>\n",
       "      <td>[{'a': ':marci:', 'e': 'emoji', 'u': 'https://...</td>\n",
       "      <td>:marci:</td>\n",
       "      <td>richtext</td>\n",
       "      <td>t2_p1au3</td>\n",
       "      <td>False</td>\n",
       "      <td>False</td>\n",
       "      <td>...</td>\n",
       "      <td>dark</td>\n",
       "      <td>NaN</td>\n",
       "      <td>NaN</td>\n",
       "      <td>NaN</td>\n",
       "      <td>NaN</td>\n",
       "      <td>NaN</td>\n",
       "      <td>NaN</td>\n",
       "      <td>NaN</td>\n",
       "      <td>NaN</td>\n",
       "      <td>NaN</td>\n",
       "    </tr>\n",
       "    <tr>\n",
       "      <th>3</th>\n",
       "      <td>[]</td>\n",
       "      <td>False</td>\n",
       "      <td>tmjm</td>\n",
       "      <td>None</td>\n",
       "      <td>[]</td>\n",
       "      <td>None</td>\n",
       "      <td>text</td>\n",
       "      <td>t2_c88ee</td>\n",
       "      <td>False</td>\n",
       "      <td>False</td>\n",
       "      <td>...</td>\n",
       "      <td>NaN</td>\n",
       "      <td>NaN</td>\n",
       "      <td>NaN</td>\n",
       "      <td>NaN</td>\n",
       "      <td>NaN</td>\n",
       "      <td>NaN</td>\n",
       "      <td>NaN</td>\n",
       "      <td>NaN</td>\n",
       "      <td>NaN</td>\n",
       "      <td>NaN</td>\n",
       "    </tr>\n",
       "    <tr>\n",
       "      <th>4</th>\n",
       "      <td>[]</td>\n",
       "      <td>False</td>\n",
       "      <td>AnomaLuna</td>\n",
       "      <td>luna</td>\n",
       "      <td>[{'a': ':luna:', 'e': 'emoji', 'u': 'https://e...</td>\n",
       "      <td>:luna:</td>\n",
       "      <td>richtext</td>\n",
       "      <td>t2_6jnv0rni</td>\n",
       "      <td>False</td>\n",
       "      <td>False</td>\n",
       "      <td>...</td>\n",
       "      <td>dark</td>\n",
       "      <td>NaN</td>\n",
       "      <td>NaN</td>\n",
       "      <td>NaN</td>\n",
       "      <td>NaN</td>\n",
       "      <td>NaN</td>\n",
       "      <td>NaN</td>\n",
       "      <td>NaN</td>\n",
       "      <td>NaN</td>\n",
       "      <td>NaN</td>\n",
       "    </tr>\n",
       "  </tbody>\n",
       "</table>\n",
       "<p>5 rows × 83 columns</p>\n",
       "</div>"
      ],
      "text/plain": [
       "  all_awardings  allow_live_comments            author author_flair_css_class  \\\n",
       "0            []                False           HoggiQQ                   None   \n",
       "1            []                False  StartingFrom-273                   None   \n",
       "2            []                False            lvndrs                  marci   \n",
       "3            []                False              tmjm                   None   \n",
       "4            []                False         AnomaLuna                   luna   \n",
       "\n",
       "                               author_flair_richtext author_flair_text  \\\n",
       "0                                                 []              None   \n",
       "1                                                 []              None   \n",
       "2  [{'a': ':marci:', 'e': 'emoji', 'u': 'https://...           :marci:   \n",
       "3                                                 []              None   \n",
       "4  [{'a': ':luna:', 'e': 'emoji', 'u': 'https://e...            :luna:   \n",
       "\n",
       "  author_flair_type author_fullname  author_is_blocked  author_patreon_flair  \\\n",
       "0              text        t2_e4tqz              False                 False   \n",
       "1              text     t2_cy6t9qbb              False                 False   \n",
       "2          richtext        t2_p1au3              False                 False   \n",
       "3              text        t2_c88ee              False                 False   \n",
       "4          richtext     t2_6jnv0rni              False                 False   \n",
       "\n",
       "   ...  author_flair_text_color removed_by_category  media_metadata  \\\n",
       "0  ...                      NaN                 NaN             NaN   \n",
       "1  ...                      NaN                 NaN             NaN   \n",
       "2  ...                     dark                 NaN             NaN   \n",
       "3  ...                      NaN                 NaN             NaN   \n",
       "4  ...                     dark                 NaN             NaN   \n",
       "\n",
       "   discussion_type  suggested_sort poll_data crosspost_parent  \\\n",
       "0              NaN             NaN       NaN              NaN   \n",
       "1              NaN             NaN       NaN              NaN   \n",
       "2              NaN             NaN       NaN              NaN   \n",
       "3              NaN             NaN       NaN              NaN   \n",
       "4              NaN             NaN       NaN              NaN   \n",
       "\n",
       "  crosspost_parent_list gallery_data  is_gallery  \n",
       "0                   NaN          NaN         NaN  \n",
       "1                   NaN          NaN         NaN  \n",
       "2                   NaN          NaN         NaN  \n",
       "3                   NaN          NaN         NaN  \n",
       "4                   NaN          NaN         NaN  \n",
       "\n",
       "[5 rows x 83 columns]"
      ]
     },
     "execution_count": 67,
     "metadata": {},
     "output_type": "execute_result"
    }
   ],
   "source": [
    "dota_df.head()"
   ]
  },
  {
   "cell_type": "code",
   "execution_count": 68,
   "metadata": {},
   "outputs": [
    {
     "data": {
      "text/html": [
       "<div>\n",
       "<style scoped>\n",
       "    .dataframe tbody tr th:only-of-type {\n",
       "        vertical-align: middle;\n",
       "    }\n",
       "\n",
       "    .dataframe tbody tr th {\n",
       "        vertical-align: top;\n",
       "    }\n",
       "\n",
       "    .dataframe thead th {\n",
       "        text-align: right;\n",
       "    }\n",
       "</style>\n",
       "<table border=\"1\" class=\"dataframe\">\n",
       "  <thead>\n",
       "    <tr style=\"text-align: right;\">\n",
       "      <th></th>\n",
       "      <th>subreddit</th>\n",
       "      <th>selftext</th>\n",
       "      <th>title</th>\n",
       "      <th>created_utc</th>\n",
       "    </tr>\n",
       "  </thead>\n",
       "  <tbody>\n",
       "    <tr>\n",
       "      <th>0</th>\n",
       "      <td>DotA2</td>\n",
       "      <td>Hey, got a Saturday ticket for the Major in th...</td>\n",
       "      <td>Can't make it to the Major, giving away ticket.</td>\n",
       "      <td>1653116935</td>\n",
       "    </tr>\n",
       "    <tr>\n",
       "      <th>1</th>\n",
       "      <td>DotA2</td>\n",
       "      <td></td>\n",
       "      <td>[Dota2]Eat some snacks. Don't miss the sights....</td>\n",
       "      <td>1653116783</td>\n",
       "    </tr>\n",
       "    <tr>\n",
       "      <th>2</th>\n",
       "      <td>DotA2</td>\n",
       "      <td></td>\n",
       "      <td>A TI in SEA is almost confirmed!</td>\n",
       "      <td>1653116690</td>\n",
       "    </tr>\n",
       "    <tr>\n",
       "      <th>3</th>\n",
       "      <td>DotA2</td>\n",
       "      <td>Hey,\\n\\nGot base model max studio (m1 max , 32...</td>\n",
       "      <td>M1 Mac crashing</td>\n",
       "      <td>1653115690</td>\n",
       "    </tr>\n",
       "    <tr>\n",
       "      <th>4</th>\n",
       "      <td>DotA2</td>\n",
       "      <td></td>\n",
       "      <td>Null Talisman meta is getting out of hand</td>\n",
       "      <td>1653115596</td>\n",
       "    </tr>\n",
       "  </tbody>\n",
       "</table>\n",
       "</div>"
      ],
      "text/plain": [
       "  subreddit                                           selftext  \\\n",
       "0     DotA2  Hey, got a Saturday ticket for the Major in th...   \n",
       "1     DotA2                                                      \n",
       "2     DotA2                                                      \n",
       "3     DotA2  Hey,\\n\\nGot base model max studio (m1 max , 32...   \n",
       "4     DotA2                                                      \n",
       "\n",
       "                                               title  created_utc  \n",
       "0    Can't make it to the Major, giving away ticket.   1653116935  \n",
       "1  [Dota2]Eat some snacks. Don't miss the sights....   1653116783  \n",
       "2                   A TI in SEA is almost confirmed!   1653116690  \n",
       "3                                    M1 Mac crashing   1653115690  \n",
       "4          Null Talisman meta is getting out of hand   1653115596  "
      ]
     },
     "execution_count": 68,
     "metadata": {},
     "output_type": "execute_result"
    }
   ],
   "source": [
    "dota_df[['subreddit', 'selftext', 'title', 'created_utc']].head()"
   ]
  },
  {
   "cell_type": "markdown",
   "metadata": {},
   "source": [
    "### <font color = 'Maroon'> Updating Dota2 Posts to retrieve 4200 posts"
   ]
  },
  {
   "cell_type": "code",
   "execution_count": 69,
   "metadata": {},
   "outputs": [],
   "source": [
    "def update_df(baseposts_df, subreddit):\n",
    "    params = get_params(baseposts_df, subreddit)\n",
    "    # print(params)\n",
    "    posts = get_posts(params)\n",
    "    # print(len(posts))\n",
    "    df2 = create_new_df(posts)\n",
    "    # print(df2.shape)\n",
    "    updated = pd.concat([baseposts_df, df2], axis=0, ignore_index=True, sort=True)\n",
    "    return updated"
   ]
  },
  {
   "cell_type": "code",
   "execution_count": 70,
   "metadata": {},
   "outputs": [
    {
     "name": "stdout",
     "output_type": "stream",
     "text": [
      "(1199, 85)\n",
      "(2199, 85)\n",
      "(3199, 87)\n"
     ]
    },
    {
     "data": {
      "text/plain": [
       "(4199, 87)"
      ]
     },
     "execution_count": 70,
     "metadata": {},
     "output_type": "execute_result"
    }
   ],
   "source": [
    "#Code to loop update_df function to get params and posts 41 times to get 4200 posts\n",
    "for i in range(41):\n",
    "    dota_df = update_df(dota_df, 'DotA2')\n",
    "    if i in [10, 20, 30, 41]:\n",
    "        print(dota_df.shape)\n",
    "\n",
    "dota_df.shape"
   ]
  },
  {
   "cell_type": "markdown",
   "metadata": {},
   "source": [
    "### <font color = 'Maroon'> Retrieving League of Legends Posts"
   ]
  },
  {
   "cell_type": "code",
   "execution_count": 71,
   "metadata": {},
   "outputs": [],
   "source": [
    "params_lol = {\n",
    "    'subreddit': 'leagueoflegends', \n",
    "    'size': 100\n",
    "}"
   ]
  },
  {
   "cell_type": "code",
   "execution_count": 72,
   "metadata": {},
   "outputs": [
    {
     "data": {
      "text/plain": [
       "(100, 76)"
      ]
     },
     "execution_count": 72,
     "metadata": {},
     "output_type": "execute_result"
    }
   ],
   "source": [
    "posts_lol = get_posts(params_lol)\n",
    "lol_df = create_new_df(posts_lol)\n",
    "lol_df.shape"
   ]
  },
  {
   "cell_type": "code",
   "execution_count": 73,
   "metadata": {},
   "outputs": [
    {
     "data": {
      "text/html": [
       "<div>\n",
       "<style scoped>\n",
       "    .dataframe tbody tr th:only-of-type {\n",
       "        vertical-align: middle;\n",
       "    }\n",
       "\n",
       "    .dataframe tbody tr th {\n",
       "        vertical-align: top;\n",
       "    }\n",
       "\n",
       "    .dataframe thead th {\n",
       "        text-align: right;\n",
       "    }\n",
       "</style>\n",
       "<table border=\"1\" class=\"dataframe\">\n",
       "  <thead>\n",
       "    <tr style=\"text-align: right;\">\n",
       "      <th></th>\n",
       "      <th>all_awardings</th>\n",
       "      <th>allow_live_comments</th>\n",
       "      <th>author</th>\n",
       "      <th>author_flair_css_class</th>\n",
       "      <th>author_flair_richtext</th>\n",
       "      <th>author_flair_text</th>\n",
       "      <th>author_flair_type</th>\n",
       "      <th>author_fullname</th>\n",
       "      <th>author_is_blocked</th>\n",
       "      <th>author_patreon_flair</th>\n",
       "      <th>...</th>\n",
       "      <th>author_flair_text_color</th>\n",
       "      <th>media_metadata</th>\n",
       "      <th>media</th>\n",
       "      <th>media_embed</th>\n",
       "      <th>secure_media</th>\n",
       "      <th>secure_media_embed</th>\n",
       "      <th>suggested_sort</th>\n",
       "      <th>author_flair_background_color</th>\n",
       "      <th>crosspost_parent</th>\n",
       "      <th>crosspost_parent_list</th>\n",
       "    </tr>\n",
       "  </thead>\n",
       "  <tbody>\n",
       "    <tr>\n",
       "      <th>0</th>\n",
       "      <td>[]</td>\n",
       "      <td>False</td>\n",
       "      <td>arisasam</td>\n",
       "      <td>None</td>\n",
       "      <td>[]</td>\n",
       "      <td>None</td>\n",
       "      <td>text</td>\n",
       "      <td>t2_13ubtt</td>\n",
       "      <td>False</td>\n",
       "      <td>False</td>\n",
       "      <td>...</td>\n",
       "      <td>NaN</td>\n",
       "      <td>NaN</td>\n",
       "      <td>NaN</td>\n",
       "      <td>NaN</td>\n",
       "      <td>NaN</td>\n",
       "      <td>NaN</td>\n",
       "      <td>NaN</td>\n",
       "      <td>NaN</td>\n",
       "      <td>NaN</td>\n",
       "      <td>NaN</td>\n",
       "    </tr>\n",
       "    <tr>\n",
       "      <th>1</th>\n",
       "      <td>[]</td>\n",
       "      <td>False</td>\n",
       "      <td>Massive_Dependent_63</td>\n",
       "      <td>None</td>\n",
       "      <td>[]</td>\n",
       "      <td>None</td>\n",
       "      <td>text</td>\n",
       "      <td>t2_dn33zpat</td>\n",
       "      <td>False</td>\n",
       "      <td>False</td>\n",
       "      <td>...</td>\n",
       "      <td>NaN</td>\n",
       "      <td>NaN</td>\n",
       "      <td>NaN</td>\n",
       "      <td>NaN</td>\n",
       "      <td>NaN</td>\n",
       "      <td>NaN</td>\n",
       "      <td>NaN</td>\n",
       "      <td>NaN</td>\n",
       "      <td>NaN</td>\n",
       "      <td>NaN</td>\n",
       "    </tr>\n",
       "    <tr>\n",
       "      <th>2</th>\n",
       "      <td>[]</td>\n",
       "      <td>False</td>\n",
       "      <td>culaina001</td>\n",
       "      <td>None</td>\n",
       "      <td>[]</td>\n",
       "      <td>None</td>\n",
       "      <td>text</td>\n",
       "      <td>t2_nffafzna</td>\n",
       "      <td>False</td>\n",
       "      <td>False</td>\n",
       "      <td>...</td>\n",
       "      <td>NaN</td>\n",
       "      <td>NaN</td>\n",
       "      <td>NaN</td>\n",
       "      <td>NaN</td>\n",
       "      <td>NaN</td>\n",
       "      <td>NaN</td>\n",
       "      <td>NaN</td>\n",
       "      <td>NaN</td>\n",
       "      <td>NaN</td>\n",
       "      <td>NaN</td>\n",
       "    </tr>\n",
       "    <tr>\n",
       "      <th>3</th>\n",
       "      <td>[]</td>\n",
       "      <td>False</td>\n",
       "      <td>Mertcun</td>\n",
       "      <td>None</td>\n",
       "      <td>[]</td>\n",
       "      <td>None</td>\n",
       "      <td>text</td>\n",
       "      <td>t2_7eds41ke</td>\n",
       "      <td>False</td>\n",
       "      <td>False</td>\n",
       "      <td>...</td>\n",
       "      <td>NaN</td>\n",
       "      <td>NaN</td>\n",
       "      <td>NaN</td>\n",
       "      <td>NaN</td>\n",
       "      <td>NaN</td>\n",
       "      <td>NaN</td>\n",
       "      <td>NaN</td>\n",
       "      <td>NaN</td>\n",
       "      <td>NaN</td>\n",
       "      <td>NaN</td>\n",
       "    </tr>\n",
       "    <tr>\n",
       "      <th>4</th>\n",
       "      <td>[]</td>\n",
       "      <td>False</td>\n",
       "      <td>SolubilityRules</td>\n",
       "      <td>None</td>\n",
       "      <td>[]</td>\n",
       "      <td>None</td>\n",
       "      <td>text</td>\n",
       "      <td>t2_2lolx4d</td>\n",
       "      <td>False</td>\n",
       "      <td>False</td>\n",
       "      <td>...</td>\n",
       "      <td>NaN</td>\n",
       "      <td>NaN</td>\n",
       "      <td>NaN</td>\n",
       "      <td>NaN</td>\n",
       "      <td>NaN</td>\n",
       "      <td>NaN</td>\n",
       "      <td>NaN</td>\n",
       "      <td>NaN</td>\n",
       "      <td>NaN</td>\n",
       "      <td>NaN</td>\n",
       "    </tr>\n",
       "  </tbody>\n",
       "</table>\n",
       "<p>5 rows × 76 columns</p>\n",
       "</div>"
      ],
      "text/plain": [
       "  all_awardings  allow_live_comments                author  \\\n",
       "0            []                False              arisasam   \n",
       "1            []                False  Massive_Dependent_63   \n",
       "2            []                False            culaina001   \n",
       "3            []                False               Mertcun   \n",
       "4            []                False       SolubilityRules   \n",
       "\n",
       "  author_flair_css_class author_flair_richtext author_flair_text  \\\n",
       "0                   None                    []              None   \n",
       "1                   None                    []              None   \n",
       "2                   None                    []              None   \n",
       "3                   None                    []              None   \n",
       "4                   None                    []              None   \n",
       "\n",
       "  author_flair_type author_fullname  author_is_blocked  author_patreon_flair  \\\n",
       "0              text       t2_13ubtt              False                 False   \n",
       "1              text     t2_dn33zpat              False                 False   \n",
       "2              text     t2_nffafzna              False                 False   \n",
       "3              text     t2_7eds41ke              False                 False   \n",
       "4              text      t2_2lolx4d              False                 False   \n",
       "\n",
       "   ...  author_flair_text_color media_metadata  media  media_embed  \\\n",
       "0  ...                      NaN            NaN    NaN          NaN   \n",
       "1  ...                      NaN            NaN    NaN          NaN   \n",
       "2  ...                      NaN            NaN    NaN          NaN   \n",
       "3  ...                      NaN            NaN    NaN          NaN   \n",
       "4  ...                      NaN            NaN    NaN          NaN   \n",
       "\n",
       "   secure_media secure_media_embed suggested_sort  \\\n",
       "0           NaN                NaN            NaN   \n",
       "1           NaN                NaN            NaN   \n",
       "2           NaN                NaN            NaN   \n",
       "3           NaN                NaN            NaN   \n",
       "4           NaN                NaN            NaN   \n",
       "\n",
       "  author_flair_background_color crosspost_parent  crosspost_parent_list  \n",
       "0                           NaN              NaN                    NaN  \n",
       "1                           NaN              NaN                    NaN  \n",
       "2                           NaN              NaN                    NaN  \n",
       "3                           NaN              NaN                    NaN  \n",
       "4                           NaN              NaN                    NaN  \n",
       "\n",
       "[5 rows x 76 columns]"
      ]
     },
     "execution_count": 73,
     "metadata": {},
     "output_type": "execute_result"
    }
   ],
   "source": [
    "lol_df.head()"
   ]
  },
  {
   "cell_type": "code",
   "execution_count": 74,
   "metadata": {},
   "outputs": [
    {
     "data": {
      "text/html": [
       "<div>\n",
       "<style scoped>\n",
       "    .dataframe tbody tr th:only-of-type {\n",
       "        vertical-align: middle;\n",
       "    }\n",
       "\n",
       "    .dataframe tbody tr th {\n",
       "        vertical-align: top;\n",
       "    }\n",
       "\n",
       "    .dataframe thead th {\n",
       "        text-align: right;\n",
       "    }\n",
       "</style>\n",
       "<table border=\"1\" class=\"dataframe\">\n",
       "  <thead>\n",
       "    <tr style=\"text-align: right;\">\n",
       "      <th></th>\n",
       "      <th>subreddit</th>\n",
       "      <th>selftext</th>\n",
       "      <th>title</th>\n",
       "      <th>created_utc</th>\n",
       "    </tr>\n",
       "  </thead>\n",
       "  <tbody>\n",
       "    <tr>\n",
       "      <th>0</th>\n",
       "      <td>leagueoflegends</td>\n",
       "      <td>[removed]</td>\n",
       "      <td>My friend and I got fresh level 30 accts; afte...</td>\n",
       "      <td>1653117360</td>\n",
       "    </tr>\n",
       "    <tr>\n",
       "      <th>1</th>\n",
       "      <td>leagueoflegends</td>\n",
       "      <td>So in my gold tier tokens I had death incarnat...</td>\n",
       "      <td>Question about tokens (the little badges you c...</td>\n",
       "      <td>1653117306</td>\n",
       "    </tr>\n",
       "    <tr>\n",
       "      <th>2</th>\n",
       "      <td>leagueoflegends</td>\n",
       "      <td></td>\n",
       "      <td>Road to 1 month</td>\n",
       "      <td>1653117055</td>\n",
       "    </tr>\n",
       "    <tr>\n",
       "      <th>3</th>\n",
       "      <td>leagueoflegends</td>\n",
       "      <td></td>\n",
       "      <td>Any explain?</td>\n",
       "      <td>1653117019</td>\n",
       "    </tr>\n",
       "    <tr>\n",
       "      <th>4</th>\n",
       "      <td>leagueoflegends</td>\n",
       "      <td>I'm a T1 fan, and I get it. The team dominated...</td>\n",
       "      <td>T1 members proclaiming victory even before get...</td>\n",
       "      <td>1653116857</td>\n",
       "    </tr>\n",
       "  </tbody>\n",
       "</table>\n",
       "</div>"
      ],
      "text/plain": [
       "         subreddit                                           selftext  \\\n",
       "0  leagueoflegends                                          [removed]   \n",
       "1  leagueoflegends  So in my gold tier tokens I had death incarnat...   \n",
       "2  leagueoflegends                                                      \n",
       "3  leagueoflegends                                                      \n",
       "4  leagueoflegends  I'm a T1 fan, and I get it. The team dominated...   \n",
       "\n",
       "                                               title  created_utc  \n",
       "0  My friend and I got fresh level 30 accts; afte...   1653117360  \n",
       "1  Question about tokens (the little badges you c...   1653117306  \n",
       "2                                    Road to 1 month   1653117055  \n",
       "3                                       Any explain?   1653117019  \n",
       "4  T1 members proclaiming victory even before get...   1653116857  "
      ]
     },
     "execution_count": 74,
     "metadata": {},
     "output_type": "execute_result"
    }
   ],
   "source": [
    "lol_df[['subreddit', 'selftext', 'title', 'created_utc']].head()"
   ]
  },
  {
   "cell_type": "markdown",
   "metadata": {},
   "source": [
    "### <font color = 'Maroon'> Updating League of Legends Posts to retrieve 4200 posts"
   ]
  },
  {
   "cell_type": "code",
   "execution_count": 75,
   "metadata": {},
   "outputs": [
    {
     "name": "stdout",
     "output_type": "stream",
     "text": [
      "(1200, 80)\n",
      "(2199, 80)\n",
      "(3199, 80)\n"
     ]
    },
    {
     "data": {
      "text/plain": [
       "(4199, 80)"
      ]
     },
     "execution_count": 75,
     "metadata": {},
     "output_type": "execute_result"
    }
   ],
   "source": [
    "for i in range(41):\n",
    "    lol_df = update_df(lol_df, 'leagueoflegends')\n",
    "    if i in [10, 20, 30, 41]:\n",
    "        print(lol_df.shape)\n",
    "\n",
    "lol_df.shape"
   ]
  },
  {
   "cell_type": "markdown",
   "metadata": {},
   "source": [
    "### <font color = 'Maroon'> Saving the DataFrames to csv file"
   ]
  },
  {
   "cell_type": "code",
   "execution_count": 76,
   "metadata": {},
   "outputs": [],
   "source": [
    "dota_df.to_csv('dota.csv')\n",
    "lol_df.to_csv('lol.csv')"
   ]
  }
 ],
 "metadata": {
  "kernelspec": {
   "display_name": "Python 3",
   "language": "python",
   "name": "python3"
  },
  "language_info": {
   "codemirror_mode": {
    "name": "ipython",
    "version": 3
   },
   "file_extension": ".py",
   "mimetype": "text/x-python",
   "name": "python",
   "nbconvert_exporter": "python",
   "pygments_lexer": "ipython3",
   "version": "3.8.5"
  }
 },
 "nbformat": 4,
 "nbformat_minor": 4
}
